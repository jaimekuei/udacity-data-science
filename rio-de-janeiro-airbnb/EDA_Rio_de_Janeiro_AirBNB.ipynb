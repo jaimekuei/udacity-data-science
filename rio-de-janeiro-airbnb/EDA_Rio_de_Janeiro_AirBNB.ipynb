{
  "nbformat": 4,
  "nbformat_minor": 0,
  "metadata": {
    "colab": {
      "name": "EDA_Rio_de_Janeiro_AirBNB.ipynb",
      "provenance": [],
      "toc_visible": true
    },
    "kernelspec": {
      "name": "python3",
      "display_name": "Python 3"
    }
  },
  "cells": [
    {
      "cell_type": "markdown",
      "metadata": {
        "id": "ZL0WpTAQVZEA"
      },
      "source": [
        "# **Rio de Janeiro AirBNB dataset**\n",
        "\n",
        "\n",
        "The main goal of this notebook is to develop an Exploratory Data Analysis applied on Rio de Janeiro AirBNB Dataset.\n",
        "\n",
        "**Which database is been used?**\n",
        "\n",
        "- Rio de Janeiro AirBnb Dataset (http://insideairbnb.com/get-the-data.html)\n",
        "\n",
        "The database has three main tables: \n",
        "\n",
        "- **listings**: is the main database in which you have the information of the houses for rent within airbnb (many information are available in this dataset such as price of the day, reviews, cleaning note etc ...).\n",
        "\n",
        "- **calendar**:  is the database with the house price calendar! Imagine that when we rent a house through AirBnb we can see how much it costs to rent the house on a certain day!\n",
        "\n",
        "- **reviews**: is the database with the comments of the reviews (In this EDA we will not use this base)\n",
        "\n",
        "Author: Jaime Kiyoshi Kuei"
      ]
    },
    {
      "cell_type": "markdown",
      "metadata": {
        "id": "6irCKNjjW3eG"
      },
      "source": [
        "## 1. Pre-Analysis\n",
        "\n",
        "Intalling and importing all important libraries "
      ]
    },
    {
      "cell_type": "markdown",
      "metadata": {
        "id": "uV1aVPqTXiqn"
      },
      "source": [
        "### 1.1 Installing and Importing"
      ]
    },
    {
      "cell_type": "code",
      "metadata": {
        "colab": {
          "base_uri": "https://localhost:8080/"
        },
        "id": "vG83P4d8Xmsz",
        "outputId": "617d60bd-65ca-474b-d2ea-15ea47d1a20c"
      },
      "source": [
        "!pip install numpy\n",
        "!pip install matplotlib\n",
        "!pip install pandas\n",
        "!pip install scipy\n",
        "!pip install geopandas"
      ],
      "execution_count": 1,
      "outputs": [
        {
          "output_type": "stream",
          "text": [
            "Requirement already satisfied: numpy in /usr/local/lib/python3.7/dist-packages (1.19.5)\n",
            "Requirement already satisfied: matplotlib in /usr/local/lib/python3.7/dist-packages (3.2.2)\n",
            "Requirement already satisfied: python-dateutil>=2.1 in /usr/local/lib/python3.7/dist-packages (from matplotlib) (2.8.1)\n",
            "Requirement already satisfied: cycler>=0.10 in /usr/local/lib/python3.7/dist-packages (from matplotlib) (0.10.0)\n",
            "Requirement already satisfied: numpy>=1.11 in /usr/local/lib/python3.7/dist-packages (from matplotlib) (1.19.5)\n",
            "Requirement already satisfied: kiwisolver>=1.0.1 in /usr/local/lib/python3.7/dist-packages (from matplotlib) (1.3.1)\n",
            "Requirement already satisfied: pyparsing!=2.0.4,!=2.1.2,!=2.1.6,>=2.0.1 in /usr/local/lib/python3.7/dist-packages (from matplotlib) (2.4.7)\n",
            "Requirement already satisfied: six>=1.5 in /usr/local/lib/python3.7/dist-packages (from python-dateutil>=2.1->matplotlib) (1.15.0)\n",
            "Requirement already satisfied: pandas in /usr/local/lib/python3.7/dist-packages (1.1.5)\n",
            "Requirement already satisfied: pytz>=2017.2 in /usr/local/lib/python3.7/dist-packages (from pandas) (2018.9)\n",
            "Requirement already satisfied: python-dateutil>=2.7.3 in /usr/local/lib/python3.7/dist-packages (from pandas) (2.8.1)\n",
            "Requirement already satisfied: numpy>=1.15.4 in /usr/local/lib/python3.7/dist-packages (from pandas) (1.19.5)\n",
            "Requirement already satisfied: six>=1.5 in /usr/local/lib/python3.7/dist-packages (from python-dateutil>=2.7.3->pandas) (1.15.0)\n",
            "Requirement already satisfied: scipy in /usr/local/lib/python3.7/dist-packages (1.4.1)\n",
            "Requirement already satisfied: numpy>=1.13.3 in /usr/local/lib/python3.7/dist-packages (from scipy) (1.19.5)\n",
            "Collecting geopandas\n",
            "\u001b[?25l  Downloading https://files.pythonhosted.org/packages/d7/bf/e9cefb69d39155d122b6ddca53893b61535fa6ffdad70bf5ef708977f53f/geopandas-0.9.0-py2.py3-none-any.whl (994kB)\n",
            "\u001b[K     |████████████████████████████████| 1.0MB 5.8MB/s \n",
            "\u001b[?25hCollecting pyproj>=2.2.0\n",
            "\u001b[?25l  Downloading https://files.pythonhosted.org/packages/b1/72/d52e9ca81caef056062d71991b0e9b1d16af042245627c5d0e4916a36c4f/pyproj-3.0.1-cp37-cp37m-manylinux2010_x86_64.whl (6.5MB)\n",
            "\u001b[K     |████████████████████████████████| 6.5MB 31.6MB/s \n",
            "\u001b[?25hRequirement already satisfied: pandas>=0.24.0 in /usr/local/lib/python3.7/dist-packages (from geopandas) (1.1.5)\n",
            "Collecting fiona>=1.8\n",
            "\u001b[?25l  Downloading https://files.pythonhosted.org/packages/47/c2/67d1d0acbaaee3b03e5e22e3b96c33219cb5dd392531c9ff9cee7c2eb3e4/Fiona-1.8.18-cp37-cp37m-manylinux1_x86_64.whl (14.8MB)\n",
            "\u001b[K     |████████████████████████████████| 14.8MB 288kB/s \n",
            "\u001b[?25hRequirement already satisfied: shapely>=1.6 in /usr/local/lib/python3.7/dist-packages (from geopandas) (1.7.1)\n",
            "Requirement already satisfied: certifi in /usr/local/lib/python3.7/dist-packages (from pyproj>=2.2.0->geopandas) (2020.12.5)\n",
            "Requirement already satisfied: pytz>=2017.2 in /usr/local/lib/python3.7/dist-packages (from pandas>=0.24.0->geopandas) (2018.9)\n",
            "Requirement already satisfied: python-dateutil>=2.7.3 in /usr/local/lib/python3.7/dist-packages (from pandas>=0.24.0->geopandas) (2.8.1)\n",
            "Requirement already satisfied: numpy>=1.15.4 in /usr/local/lib/python3.7/dist-packages (from pandas>=0.24.0->geopandas) (1.19.5)\n",
            "Collecting cligj>=0.5\n",
            "  Downloading https://files.pythonhosted.org/packages/42/1e/947eadf10d6804bf276eb8a038bd5307996dceaaa41cfd21b7a15ec62f5d/cligj-0.7.1-py3-none-any.whl\n",
            "Collecting munch\n",
            "  Downloading https://files.pythonhosted.org/packages/cc/ab/85d8da5c9a45e072301beb37ad7f833cd344e04c817d97e0cc75681d248f/munch-2.5.0-py2.py3-none-any.whl\n",
            "Collecting click-plugins>=1.0\n",
            "  Downloading https://files.pythonhosted.org/packages/e9/da/824b92d9942f4e472702488857914bdd50f73021efea15b4cad9aca8ecef/click_plugins-1.1.1-py2.py3-none-any.whl\n",
            "Requirement already satisfied: six>=1.7 in /usr/local/lib/python3.7/dist-packages (from fiona>=1.8->geopandas) (1.15.0)\n",
            "Requirement already satisfied: attrs>=17 in /usr/local/lib/python3.7/dist-packages (from fiona>=1.8->geopandas) (20.3.0)\n",
            "Requirement already satisfied: click<8,>=4.0 in /usr/local/lib/python3.7/dist-packages (from fiona>=1.8->geopandas) (7.1.2)\n",
            "Installing collected packages: pyproj, cligj, munch, click-plugins, fiona, geopandas\n",
            "Successfully installed click-plugins-1.1.1 cligj-0.7.1 fiona-1.8.18 geopandas-0.9.0 munch-2.5.0 pyproj-3.0.1\n"
          ],
          "name": "stdout"
        }
      ]
    },
    {
      "cell_type": "code",
      "metadata": {
        "id": "jQvVmK1NX5dc"
      },
      "source": [
        "import pandas as pd\n",
        "import numpy as np\n",
        "import matplotlib.pyplot as plt\n",
        "import re\n",
        "import seaborn as sns"
      ],
      "execution_count": 2,
      "outputs": []
    },
    {
      "cell_type": "markdown",
      "metadata": {
        "id": "oF8K6JCiXsC0"
      },
      "source": [
        "### 1.2 Extracting tables"
      ]
    },
    {
      "cell_type": "code",
      "metadata": {
        "colab": {
          "base_uri": "https://localhost:8080/"
        },
        "id": "TJW4-VSSXoS1",
        "outputId": "75c79199-8f8b-4edb-9a23-56b4e442b64c"
      },
      "source": [
        "from google.colab import drive\n",
        "drive.mount('/content/drive')"
      ],
      "execution_count": 3,
      "outputs": [
        {
          "output_type": "stream",
          "text": [
            "Mounted at /content/drive\n"
          ],
          "name": "stdout"
        }
      ]
    },
    {
      "cell_type": "code",
      "metadata": {
        "id": "ceGxeR_8YNj8"
      },
      "source": [
        "root = '/content/drive/My Drive/datasets'\n",
        "\n",
        "#Dados do AirBNB - Calendar, Listings, Reviews\n",
        "calendar = pd.read_csv(f\"{root}/calendar.csv.gz\", compression = 'gzip')\n",
        "listings = pd.read_csv(f\"{root}/listings.csv.gz\", compression = 'gzip')\n",
        "reviews = pd.read_csv(f\"{root}/reviews.csv.gz\", compression = 'gzip')"
      ],
      "execution_count": 4,
      "outputs": []
    },
    {
      "cell_type": "markdown",
      "metadata": {
        "id": "JYEycaDiYqsq"
      },
      "source": [
        "## Part I: Exploratory Data Analysis\n",
        "\n",
        "For this part we will focus on development in exploratory data analysis!"
      ]
    },
    {
      "cell_type": "markdown",
      "metadata": {
        "id": "oTLlH-vizDl2"
      },
      "source": [
        "### 2.1 Understanding the data"
      ]
    },
    {
      "cell_type": "code",
      "metadata": {
        "colab": {
          "base_uri": "https://localhost:8080/"
        },
        "id": "UpjhWfnIYlI8",
        "outputId": "d0933e1b-cd6d-438f-fb2b-5731783dc2ca"
      },
      "source": [
        "# Verifying Columns\n",
        "listings.columns"
      ],
      "execution_count": 5,
      "outputs": [
        {
          "output_type": "execute_result",
          "data": {
            "text/plain": [
              "Index(['id', 'listing_url', 'scrape_id', 'last_scraped', 'name', 'description',\n",
              "       'neighborhood_overview', 'picture_url', 'host_id', 'host_url',\n",
              "       'host_name', 'host_since', 'host_location', 'host_about',\n",
              "       'host_response_time', 'host_response_rate', 'host_acceptance_rate',\n",
              "       'host_is_superhost', 'host_thumbnail_url', 'host_picture_url',\n",
              "       'host_neighbourhood', 'host_listings_count',\n",
              "       'host_total_listings_count', 'host_verifications',\n",
              "       'host_has_profile_pic', 'host_identity_verified', 'neighbourhood',\n",
              "       'neighbourhood_cleansed', 'neighbourhood_group_cleansed', 'latitude',\n",
              "       'longitude', 'property_type', 'room_type', 'accommodates', 'bathrooms',\n",
              "       'bathrooms_text', 'bedrooms', 'beds', 'amenities', 'price',\n",
              "       'minimum_nights', 'maximum_nights', 'minimum_minimum_nights',\n",
              "       'maximum_minimum_nights', 'minimum_maximum_nights',\n",
              "       'maximum_maximum_nights', 'minimum_nights_avg_ntm',\n",
              "       'maximum_nights_avg_ntm', 'calendar_updated', 'has_availability',\n",
              "       'availability_30', 'availability_60', 'availability_90',\n",
              "       'availability_365', 'calendar_last_scraped', 'number_of_reviews',\n",
              "       'number_of_reviews_ltm', 'number_of_reviews_l30d', 'first_review',\n",
              "       'last_review', 'review_scores_rating', 'review_scores_accuracy',\n",
              "       'review_scores_cleanliness', 'review_scores_checkin',\n",
              "       'review_scores_communication', 'review_scores_location',\n",
              "       'review_scores_value', 'license', 'instant_bookable',\n",
              "       'calculated_host_listings_count',\n",
              "       'calculated_host_listings_count_entire_homes',\n",
              "       'calculated_host_listings_count_private_rooms',\n",
              "       'calculated_host_listings_count_shared_rooms', 'reviews_per_month'],\n",
              "      dtype='object')"
            ]
          },
          "metadata": {
            "tags": []
          },
          "execution_count": 5
        }
      ]
    },
    {
      "cell_type": "code",
      "metadata": {
        "colab": {
          "base_uri": "https://localhost:8080/",
          "height": 267
        },
        "id": "gYT4kTfeaAXN",
        "outputId": "67957948-ddf5-4a80-c9e6-356195a631d8"
      },
      "source": [
        "# Let's take a look on the dataframe?\n",
        "listings.head(2)"
      ],
      "execution_count": 6,
      "outputs": [
        {
          "output_type": "execute_result",
          "data": {
            "text/html": [
              "<div>\n",
              "<style scoped>\n",
              "    .dataframe tbody tr th:only-of-type {\n",
              "        vertical-align: middle;\n",
              "    }\n",
              "\n",
              "    .dataframe tbody tr th {\n",
              "        vertical-align: top;\n",
              "    }\n",
              "\n",
              "    .dataframe thead th {\n",
              "        text-align: right;\n",
              "    }\n",
              "</style>\n",
              "<table border=\"1\" class=\"dataframe\">\n",
              "  <thead>\n",
              "    <tr style=\"text-align: right;\">\n",
              "      <th></th>\n",
              "      <th>id</th>\n",
              "      <th>listing_url</th>\n",
              "      <th>scrape_id</th>\n",
              "      <th>last_scraped</th>\n",
              "      <th>name</th>\n",
              "      <th>description</th>\n",
              "      <th>neighborhood_overview</th>\n",
              "      <th>picture_url</th>\n",
              "      <th>host_id</th>\n",
              "      <th>host_url</th>\n",
              "      <th>host_name</th>\n",
              "      <th>host_since</th>\n",
              "      <th>host_location</th>\n",
              "      <th>host_about</th>\n",
              "      <th>host_response_time</th>\n",
              "      <th>host_response_rate</th>\n",
              "      <th>host_acceptance_rate</th>\n",
              "      <th>host_is_superhost</th>\n",
              "      <th>host_thumbnail_url</th>\n",
              "      <th>host_picture_url</th>\n",
              "      <th>host_neighbourhood</th>\n",
              "      <th>host_listings_count</th>\n",
              "      <th>host_total_listings_count</th>\n",
              "      <th>host_verifications</th>\n",
              "      <th>host_has_profile_pic</th>\n",
              "      <th>host_identity_verified</th>\n",
              "      <th>neighbourhood</th>\n",
              "      <th>neighbourhood_cleansed</th>\n",
              "      <th>neighbourhood_group_cleansed</th>\n",
              "      <th>latitude</th>\n",
              "      <th>longitude</th>\n",
              "      <th>property_type</th>\n",
              "      <th>room_type</th>\n",
              "      <th>accommodates</th>\n",
              "      <th>bathrooms</th>\n",
              "      <th>bathrooms_text</th>\n",
              "      <th>bedrooms</th>\n",
              "      <th>beds</th>\n",
              "      <th>amenities</th>\n",
              "      <th>price</th>\n",
              "      <th>minimum_nights</th>\n",
              "      <th>maximum_nights</th>\n",
              "      <th>minimum_minimum_nights</th>\n",
              "      <th>maximum_minimum_nights</th>\n",
              "      <th>minimum_maximum_nights</th>\n",
              "      <th>maximum_maximum_nights</th>\n",
              "      <th>minimum_nights_avg_ntm</th>\n",
              "      <th>maximum_nights_avg_ntm</th>\n",
              "      <th>calendar_updated</th>\n",
              "      <th>has_availability</th>\n",
              "      <th>availability_30</th>\n",
              "      <th>availability_60</th>\n",
              "      <th>availability_90</th>\n",
              "      <th>availability_365</th>\n",
              "      <th>calendar_last_scraped</th>\n",
              "      <th>number_of_reviews</th>\n",
              "      <th>number_of_reviews_ltm</th>\n",
              "      <th>number_of_reviews_l30d</th>\n",
              "      <th>first_review</th>\n",
              "      <th>last_review</th>\n",
              "      <th>review_scores_rating</th>\n",
              "      <th>review_scores_accuracy</th>\n",
              "      <th>review_scores_cleanliness</th>\n",
              "      <th>review_scores_checkin</th>\n",
              "      <th>review_scores_communication</th>\n",
              "      <th>review_scores_location</th>\n",
              "      <th>review_scores_value</th>\n",
              "      <th>license</th>\n",
              "      <th>instant_bookable</th>\n",
              "      <th>calculated_host_listings_count</th>\n",
              "      <th>calculated_host_listings_count_entire_homes</th>\n",
              "      <th>calculated_host_listings_count_private_rooms</th>\n",
              "      <th>calculated_host_listings_count_shared_rooms</th>\n",
              "      <th>reviews_per_month</th>\n",
              "    </tr>\n",
              "  </thead>\n",
              "  <tbody>\n",
              "    <tr>\n",
              "      <th>0</th>\n",
              "      <td>17878</td>\n",
              "      <td>https://www.airbnb.com/rooms/17878</td>\n",
              "      <td>20210222161029</td>\n",
              "      <td>2021-02-23</td>\n",
              "      <td>Very Nice 2Br in Copacabana w. balcony, fast WiFi</td>\n",
              "      <td>Discounts for long term stays. &lt;br /&gt;- Large b...</td>\n",
              "      <td>This is the one of the bests spots in Rio. Bec...</td>\n",
              "      <td>https://a0.muscache.com/pictures/65320518/3069...</td>\n",
              "      <td>68997</td>\n",
              "      <td>https://www.airbnb.com/users/show/68997</td>\n",
              "      <td>Matthias</td>\n",
              "      <td>2010-01-08</td>\n",
              "      <td>Rio de Janeiro, State of Rio de Janeiro, Brazil</td>\n",
              "      <td>I  am a  journalist/writer. Lived for 15 years...</td>\n",
              "      <td>within an hour</td>\n",
              "      <td>100%</td>\n",
              "      <td>100%</td>\n",
              "      <td>t</td>\n",
              "      <td>https://a0.muscache.com/im/pictures/user/67b13...</td>\n",
              "      <td>https://a0.muscache.com/im/pictures/user/67b13...</td>\n",
              "      <td>Copacabana</td>\n",
              "      <td>2.0</td>\n",
              "      <td>2.0</td>\n",
              "      <td>['email', 'phone', 'reviews', 'jumio', 'offlin...</td>\n",
              "      <td>t</td>\n",
              "      <td>t</td>\n",
              "      <td>Rio de Janeiro, Brazil</td>\n",
              "      <td>Copacabana</td>\n",
              "      <td>NaN</td>\n",
              "      <td>-22.96592</td>\n",
              "      <td>-43.17896</td>\n",
              "      <td>Entire condominium</td>\n",
              "      <td>Entire home/apt</td>\n",
              "      <td>5</td>\n",
              "      <td>NaN</td>\n",
              "      <td>1 bath</td>\n",
              "      <td>2.0</td>\n",
              "      <td>2.0</td>\n",
              "      <td>[\"Air conditioning\", \"Essentials\", \"Luggage dr...</td>\n",
              "      <td>$221.00</td>\n",
              "      <td>5</td>\n",
              "      <td>180</td>\n",
              "      <td>5.0</td>\n",
              "      <td>5.0</td>\n",
              "      <td>1125.0</td>\n",
              "      <td>1125.0</td>\n",
              "      <td>5.0</td>\n",
              "      <td>1125.0</td>\n",
              "      <td>NaN</td>\n",
              "      <td>t</td>\n",
              "      <td>0</td>\n",
              "      <td>8</td>\n",
              "      <td>38</td>\n",
              "      <td>304</td>\n",
              "      <td>2021-02-23</td>\n",
              "      <td>260</td>\n",
              "      <td>12</td>\n",
              "      <td>2</td>\n",
              "      <td>2010-07-15</td>\n",
              "      <td>2021-02-08</td>\n",
              "      <td>94.0</td>\n",
              "      <td>9.0</td>\n",
              "      <td>9.0</td>\n",
              "      <td>10.0</td>\n",
              "      <td>10.0</td>\n",
              "      <td>10.0</td>\n",
              "      <td>9.0</td>\n",
              "      <td>NaN</td>\n",
              "      <td>t</td>\n",
              "      <td>1</td>\n",
              "      <td>1</td>\n",
              "      <td>0</td>\n",
              "      <td>0</td>\n",
              "      <td>2.01</td>\n",
              "    </tr>\n",
              "    <tr>\n",
              "      <th>1</th>\n",
              "      <td>24480</td>\n",
              "      <td>https://www.airbnb.com/rooms/24480</td>\n",
              "      <td>20210222161029</td>\n",
              "      <td>2021-02-23</td>\n",
              "      <td>Nice and cozy near Ipanema Beach</td>\n",
              "      <td>My studio is located in the best  of Ipanema. ...</td>\n",
              "      <td>The beach, the lagoon, Ipanema is a great loca...</td>\n",
              "      <td>https://a0.muscache.com/pictures/11955612/b28e...</td>\n",
              "      <td>99249</td>\n",
              "      <td>https://www.airbnb.com/users/show/99249</td>\n",
              "      <td>Goya</td>\n",
              "      <td>2010-03-26</td>\n",
              "      <td>Rio de Janeiro, Rio de Janeiro, Brazil</td>\n",
              "      <td>Welcome to Rio!\\r\\nI am a filmmaker and a tea...</td>\n",
              "      <td>within a few hours</td>\n",
              "      <td>100%</td>\n",
              "      <td>NaN</td>\n",
              "      <td>f</td>\n",
              "      <td>https://a0.muscache.com/im/pictures/user/6b404...</td>\n",
              "      <td>https://a0.muscache.com/im/pictures/user/6b404...</td>\n",
              "      <td>Ipanema</td>\n",
              "      <td>0.0</td>\n",
              "      <td>0.0</td>\n",
              "      <td>['email', 'phone', 'facebook', 'reviews', 'jum...</td>\n",
              "      <td>t</td>\n",
              "      <td>t</td>\n",
              "      <td>Rio de Janeiro, Brazil</td>\n",
              "      <td>Ipanema</td>\n",
              "      <td>NaN</td>\n",
              "      <td>-22.98570</td>\n",
              "      <td>-43.20193</td>\n",
              "      <td>Entire apartment</td>\n",
              "      <td>Entire home/apt</td>\n",
              "      <td>2</td>\n",
              "      <td>NaN</td>\n",
              "      <td>1 bath</td>\n",
              "      <td>1.0</td>\n",
              "      <td>1.0</td>\n",
              "      <td>[\"Extra pillows and blankets\", \"Air conditioni...</td>\n",
              "      <td>$307.00</td>\n",
              "      <td>3</td>\n",
              "      <td>90</td>\n",
              "      <td>3.0</td>\n",
              "      <td>3.0</td>\n",
              "      <td>90.0</td>\n",
              "      <td>90.0</td>\n",
              "      <td>3.0</td>\n",
              "      <td>90.0</td>\n",
              "      <td>NaN</td>\n",
              "      <td>t</td>\n",
              "      <td>0</td>\n",
              "      <td>0</td>\n",
              "      <td>0</td>\n",
              "      <td>10</td>\n",
              "      <td>2021-02-23</td>\n",
              "      <td>85</td>\n",
              "      <td>0</td>\n",
              "      <td>0</td>\n",
              "      <td>2010-09-26</td>\n",
              "      <td>2018-02-14</td>\n",
              "      <td>95.0</td>\n",
              "      <td>10.0</td>\n",
              "      <td>10.0</td>\n",
              "      <td>10.0</td>\n",
              "      <td>10.0</td>\n",
              "      <td>10.0</td>\n",
              "      <td>9.0</td>\n",
              "      <td>NaN</td>\n",
              "      <td>f</td>\n",
              "      <td>1</td>\n",
              "      <td>1</td>\n",
              "      <td>0</td>\n",
              "      <td>0</td>\n",
              "      <td>0.67</td>\n",
              "    </tr>\n",
              "  </tbody>\n",
              "</table>\n",
              "</div>"
            ],
            "text/plain": [
              "      id  ... reviews_per_month\n",
              "0  17878  ...              2.01\n",
              "1  24480  ...              0.67\n",
              "\n",
              "[2 rows x 74 columns]"
            ]
          },
          "metadata": {
            "tags": []
          },
          "execution_count": 6
        }
      ]
    },
    {
      "cell_type": "code",
      "metadata": {
        "colab": {
          "base_uri": "https://localhost:8080/",
          "height": 317
        },
        "id": "AV7onr6mekaB",
        "outputId": "f3d89328-3a85-4e90-c166-499295ef310a"
      },
      "source": [
        "#Understanding descriptive statistics for numeric values\n",
        "listings.describe()"
      ],
      "execution_count": 7,
      "outputs": [
        {
          "output_type": "execute_result",
          "data": {
            "text/html": [
              "<div>\n",
              "<style scoped>\n",
              "    .dataframe tbody tr th:only-of-type {\n",
              "        vertical-align: middle;\n",
              "    }\n",
              "\n",
              "    .dataframe tbody tr th {\n",
              "        vertical-align: top;\n",
              "    }\n",
              "\n",
              "    .dataframe thead th {\n",
              "        text-align: right;\n",
              "    }\n",
              "</style>\n",
              "<table border=\"1\" class=\"dataframe\">\n",
              "  <thead>\n",
              "    <tr style=\"text-align: right;\">\n",
              "      <th></th>\n",
              "      <th>id</th>\n",
              "      <th>scrape_id</th>\n",
              "      <th>host_id</th>\n",
              "      <th>host_listings_count</th>\n",
              "      <th>host_total_listings_count</th>\n",
              "      <th>neighbourhood_group_cleansed</th>\n",
              "      <th>latitude</th>\n",
              "      <th>longitude</th>\n",
              "      <th>accommodates</th>\n",
              "      <th>bathrooms</th>\n",
              "      <th>bedrooms</th>\n",
              "      <th>beds</th>\n",
              "      <th>minimum_nights</th>\n",
              "      <th>maximum_nights</th>\n",
              "      <th>minimum_minimum_nights</th>\n",
              "      <th>maximum_minimum_nights</th>\n",
              "      <th>minimum_maximum_nights</th>\n",
              "      <th>maximum_maximum_nights</th>\n",
              "      <th>minimum_nights_avg_ntm</th>\n",
              "      <th>maximum_nights_avg_ntm</th>\n",
              "      <th>calendar_updated</th>\n",
              "      <th>availability_30</th>\n",
              "      <th>availability_60</th>\n",
              "      <th>availability_90</th>\n",
              "      <th>availability_365</th>\n",
              "      <th>number_of_reviews</th>\n",
              "      <th>number_of_reviews_ltm</th>\n",
              "      <th>number_of_reviews_l30d</th>\n",
              "      <th>review_scores_rating</th>\n",
              "      <th>review_scores_accuracy</th>\n",
              "      <th>review_scores_cleanliness</th>\n",
              "      <th>review_scores_checkin</th>\n",
              "      <th>review_scores_communication</th>\n",
              "      <th>review_scores_location</th>\n",
              "      <th>review_scores_value</th>\n",
              "      <th>license</th>\n",
              "      <th>calculated_host_listings_count</th>\n",
              "      <th>calculated_host_listings_count_entire_homes</th>\n",
              "      <th>calculated_host_listings_count_private_rooms</th>\n",
              "      <th>calculated_host_listings_count_shared_rooms</th>\n",
              "      <th>reviews_per_month</th>\n",
              "    </tr>\n",
              "  </thead>\n",
              "  <tbody>\n",
              "    <tr>\n",
              "      <th>count</th>\n",
              "      <td>2.661500e+04</td>\n",
              "      <td>2.661500e+04</td>\n",
              "      <td>2.661500e+04</td>\n",
              "      <td>26591.000000</td>\n",
              "      <td>26591.000000</td>\n",
              "      <td>0.0</td>\n",
              "      <td>26615.000000</td>\n",
              "      <td>26615.000000</td>\n",
              "      <td>26615.000000</td>\n",
              "      <td>0.0</td>\n",
              "      <td>24869.000000</td>\n",
              "      <td>26363.000000</td>\n",
              "      <td>26615.000000</td>\n",
              "      <td>2.661500e+04</td>\n",
              "      <td>26531.000000</td>\n",
              "      <td>26531.000000</td>\n",
              "      <td>2.653100e+04</td>\n",
              "      <td>2.653100e+04</td>\n",
              "      <td>26531.000000</td>\n",
              "      <td>2.653100e+04</td>\n",
              "      <td>0.0</td>\n",
              "      <td>26615.000000</td>\n",
              "      <td>26615.000000</td>\n",
              "      <td>26615.000000</td>\n",
              "      <td>26615.000000</td>\n",
              "      <td>26615.000000</td>\n",
              "      <td>26615.000000</td>\n",
              "      <td>26615.000000</td>\n",
              "      <td>16118.000000</td>\n",
              "      <td>16104.000000</td>\n",
              "      <td>16107.000000</td>\n",
              "      <td>16106.000000</td>\n",
              "      <td>16110.000000</td>\n",
              "      <td>16106.000000</td>\n",
              "      <td>16108.000000</td>\n",
              "      <td>0.0</td>\n",
              "      <td>26615.000000</td>\n",
              "      <td>26615.000000</td>\n",
              "      <td>26615.000000</td>\n",
              "      <td>26615.000000</td>\n",
              "      <td>16657.000000</td>\n",
              "    </tr>\n",
              "    <tr>\n",
              "      <th>mean</th>\n",
              "      <td>2.526448e+07</td>\n",
              "      <td>2.021022e+13</td>\n",
              "      <td>1.006657e+08</td>\n",
              "      <td>9.367568</td>\n",
              "      <td>9.367568</td>\n",
              "      <td>NaN</td>\n",
              "      <td>-22.965837</td>\n",
              "      <td>-43.248533</td>\n",
              "      <td>4.161112</td>\n",
              "      <td>NaN</td>\n",
              "      <td>1.707909</td>\n",
              "      <td>2.548230</td>\n",
              "      <td>4.725268</td>\n",
              "      <td>3.819109e+04</td>\n",
              "      <td>4.660510</td>\n",
              "      <td>5.032038</td>\n",
              "      <td>3.842962e+04</td>\n",
              "      <td>3.843929e+04</td>\n",
              "      <td>4.788828</td>\n",
              "      <td>3.843440e+04</td>\n",
              "      <td>NaN</td>\n",
              "      <td>19.245200</td>\n",
              "      <td>41.221379</td>\n",
              "      <td>64.233440</td>\n",
              "      <td>219.438174</td>\n",
              "      <td>12.146308</td>\n",
              "      <td>2.341725</td>\n",
              "      <td>0.296487</td>\n",
              "      <td>94.571349</td>\n",
              "      <td>9.636612</td>\n",
              "      <td>9.392376</td>\n",
              "      <td>9.799888</td>\n",
              "      <td>9.758535</td>\n",
              "      <td>9.759717</td>\n",
              "      <td>9.296374</td>\n",
              "      <td>NaN</td>\n",
              "      <td>9.665414</td>\n",
              "      <td>8.259177</td>\n",
              "      <td>1.295022</td>\n",
              "      <td>0.087620</td>\n",
              "      <td>0.629190</td>\n",
              "    </tr>\n",
              "    <tr>\n",
              "      <th>std</th>\n",
              "      <td>1.573416e+07</td>\n",
              "      <td>4.175860e+00</td>\n",
              "      <td>1.090670e+08</td>\n",
              "      <td>93.121768</td>\n",
              "      <td>93.121768</td>\n",
              "      <td>NaN</td>\n",
              "      <td>0.034971</td>\n",
              "      <td>0.096296</td>\n",
              "      <td>2.494174</td>\n",
              "      <td>NaN</td>\n",
              "      <td>1.054267</td>\n",
              "      <td>2.127716</td>\n",
              "      <td>19.102522</td>\n",
              "      <td>6.129662e+06</td>\n",
              "      <td>18.908336</td>\n",
              "      <td>19.572665</td>\n",
              "      <td>6.139357e+06</td>\n",
              "      <td>6.139357e+06</td>\n",
              "      <td>19.222567</td>\n",
              "      <td>6.139357e+06</td>\n",
              "      <td>NaN</td>\n",
              "      <td>12.455029</td>\n",
              "      <td>23.794758</td>\n",
              "      <td>34.644936</td>\n",
              "      <td>141.525405</td>\n",
              "      <td>29.722813</td>\n",
              "      <td>5.707102</td>\n",
              "      <td>0.882080</td>\n",
              "      <td>9.740887</td>\n",
              "      <td>0.940490</td>\n",
              "      <td>1.138224</td>\n",
              "      <td>0.767390</td>\n",
              "      <td>0.829072</td>\n",
              "      <td>0.749132</td>\n",
              "      <td>1.053340</td>\n",
              "      <td>NaN</td>\n",
              "      <td>35.942124</td>\n",
              "      <td>31.611146</td>\n",
              "      <td>5.300625</td>\n",
              "      <td>0.622397</td>\n",
              "      <td>0.876064</td>\n",
              "    </tr>\n",
              "    <tr>\n",
              "      <th>min</th>\n",
              "      <td>1.787800e+04</td>\n",
              "      <td>2.021022e+13</td>\n",
              "      <td>3.607000e+03</td>\n",
              "      <td>0.000000</td>\n",
              "      <td>0.000000</td>\n",
              "      <td>NaN</td>\n",
              "      <td>-23.072920</td>\n",
              "      <td>-43.704790</td>\n",
              "      <td>0.000000</td>\n",
              "      <td>NaN</td>\n",
              "      <td>1.000000</td>\n",
              "      <td>0.000000</td>\n",
              "      <td>1.000000</td>\n",
              "      <td>1.000000e+00</td>\n",
              "      <td>1.000000</td>\n",
              "      <td>1.000000</td>\n",
              "      <td>1.000000e+00</td>\n",
              "      <td>1.000000e+00</td>\n",
              "      <td>1.000000</td>\n",
              "      <td>1.000000e+00</td>\n",
              "      <td>NaN</td>\n",
              "      <td>0.000000</td>\n",
              "      <td>0.000000</td>\n",
              "      <td>0.000000</td>\n",
              "      <td>0.000000</td>\n",
              "      <td>0.000000</td>\n",
              "      <td>0.000000</td>\n",
              "      <td>0.000000</td>\n",
              "      <td>20.000000</td>\n",
              "      <td>2.000000</td>\n",
              "      <td>2.000000</td>\n",
              "      <td>2.000000</td>\n",
              "      <td>2.000000</td>\n",
              "      <td>2.000000</td>\n",
              "      <td>2.000000</td>\n",
              "      <td>NaN</td>\n",
              "      <td>1.000000</td>\n",
              "      <td>0.000000</td>\n",
              "      <td>0.000000</td>\n",
              "      <td>0.000000</td>\n",
              "      <td>0.010000</td>\n",
              "    </tr>\n",
              "    <tr>\n",
              "      <th>25%</th>\n",
              "      <td>1.220219e+07</td>\n",
              "      <td>2.021022e+13</td>\n",
              "      <td>1.431500e+07</td>\n",
              "      <td>1.000000</td>\n",
              "      <td>1.000000</td>\n",
              "      <td>NaN</td>\n",
              "      <td>-22.984570</td>\n",
              "      <td>-43.304090</td>\n",
              "      <td>2.000000</td>\n",
              "      <td>NaN</td>\n",
              "      <td>1.000000</td>\n",
              "      <td>1.000000</td>\n",
              "      <td>1.000000</td>\n",
              "      <td>3.000000e+01</td>\n",
              "      <td>1.000000</td>\n",
              "      <td>2.000000</td>\n",
              "      <td>9.000000e+01</td>\n",
              "      <td>9.000000e+01</td>\n",
              "      <td>1.600000</td>\n",
              "      <td>9.000000e+01</td>\n",
              "      <td>NaN</td>\n",
              "      <td>3.000000</td>\n",
              "      <td>23.000000</td>\n",
              "      <td>43.000000</td>\n",
              "      <td>88.000000</td>\n",
              "      <td>0.000000</td>\n",
              "      <td>0.000000</td>\n",
              "      <td>0.000000</td>\n",
              "      <td>93.000000</td>\n",
              "      <td>10.000000</td>\n",
              "      <td>9.000000</td>\n",
              "      <td>10.000000</td>\n",
              "      <td>10.000000</td>\n",
              "      <td>10.000000</td>\n",
              "      <td>9.000000</td>\n",
              "      <td>NaN</td>\n",
              "      <td>1.000000</td>\n",
              "      <td>1.000000</td>\n",
              "      <td>0.000000</td>\n",
              "      <td>0.000000</td>\n",
              "      <td>0.090000</td>\n",
              "    </tr>\n",
              "    <tr>\n",
              "      <th>50%</th>\n",
              "      <td>2.374090e+07</td>\n",
              "      <td>2.021022e+13</td>\n",
              "      <td>6.026326e+07</td>\n",
              "      <td>1.000000</td>\n",
              "      <td>1.000000</td>\n",
              "      <td>NaN</td>\n",
              "      <td>-22.971700</td>\n",
              "      <td>-43.196210</td>\n",
              "      <td>4.000000</td>\n",
              "      <td>NaN</td>\n",
              "      <td>1.000000</td>\n",
              "      <td>2.000000</td>\n",
              "      <td>2.000000</td>\n",
              "      <td>1.000000e+03</td>\n",
              "      <td>2.000000</td>\n",
              "      <td>3.000000</td>\n",
              "      <td>1.125000e+03</td>\n",
              "      <td>1.125000e+03</td>\n",
              "      <td>2.200000</td>\n",
              "      <td>1.125000e+03</td>\n",
              "      <td>NaN</td>\n",
              "      <td>27.000000</td>\n",
              "      <td>56.000000</td>\n",
              "      <td>86.000000</td>\n",
              "      <td>254.000000</td>\n",
              "      <td>2.000000</td>\n",
              "      <td>0.000000</td>\n",
              "      <td>0.000000</td>\n",
              "      <td>98.000000</td>\n",
              "      <td>10.000000</td>\n",
              "      <td>10.000000</td>\n",
              "      <td>10.000000</td>\n",
              "      <td>10.000000</td>\n",
              "      <td>10.000000</td>\n",
              "      <td>10.000000</td>\n",
              "      <td>NaN</td>\n",
              "      <td>1.000000</td>\n",
              "      <td>1.000000</td>\n",
              "      <td>0.000000</td>\n",
              "      <td>0.000000</td>\n",
              "      <td>0.270000</td>\n",
              "    </tr>\n",
              "    <tr>\n",
              "      <th>75%</th>\n",
              "      <td>4.089613e+07</td>\n",
              "      <td>2.021022e+13</td>\n",
              "      <td>1.546962e+08</td>\n",
              "      <td>4.000000</td>\n",
              "      <td>4.000000</td>\n",
              "      <td>NaN</td>\n",
              "      <td>-22.951575</td>\n",
              "      <td>-43.186300</td>\n",
              "      <td>5.000000</td>\n",
              "      <td>NaN</td>\n",
              "      <td>2.000000</td>\n",
              "      <td>3.000000</td>\n",
              "      <td>4.000000</td>\n",
              "      <td>1.125000e+03</td>\n",
              "      <td>4.000000</td>\n",
              "      <td>4.000000</td>\n",
              "      <td>1.125000e+03</td>\n",
              "      <td>1.125000e+03</td>\n",
              "      <td>4.000000</td>\n",
              "      <td>1.125000e+03</td>\n",
              "      <td>NaN</td>\n",
              "      <td>30.000000</td>\n",
              "      <td>59.000000</td>\n",
              "      <td>89.000000</td>\n",
              "      <td>363.000000</td>\n",
              "      <td>9.000000</td>\n",
              "      <td>2.000000</td>\n",
              "      <td>0.000000</td>\n",
              "      <td>100.000000</td>\n",
              "      <td>10.000000</td>\n",
              "      <td>10.000000</td>\n",
              "      <td>10.000000</td>\n",
              "      <td>10.000000</td>\n",
              "      <td>10.000000</td>\n",
              "      <td>10.000000</td>\n",
              "      <td>NaN</td>\n",
              "      <td>3.000000</td>\n",
              "      <td>2.000000</td>\n",
              "      <td>1.000000</td>\n",
              "      <td>0.000000</td>\n",
              "      <td>0.850000</td>\n",
              "    </tr>\n",
              "    <tr>\n",
              "      <th>max</th>\n",
              "      <td>4.827600e+07</td>\n",
              "      <td>2.021022e+13</td>\n",
              "      <td>3.892463e+08</td>\n",
              "      <td>7218.000000</td>\n",
              "      <td>7218.000000</td>\n",
              "      <td>NaN</td>\n",
              "      <td>-22.749820</td>\n",
              "      <td>-43.104860</td>\n",
              "      <td>16.000000</td>\n",
              "      <td>NaN</td>\n",
              "      <td>30.000000</td>\n",
              "      <td>50.000000</td>\n",
              "      <td>1000.000000</td>\n",
              "      <td>1.000000e+09</td>\n",
              "      <td>1000.000000</td>\n",
              "      <td>1000.000000</td>\n",
              "      <td>1.000000e+09</td>\n",
              "      <td>1.000000e+09</td>\n",
              "      <td>1000.000000</td>\n",
              "      <td>1.000000e+09</td>\n",
              "      <td>NaN</td>\n",
              "      <td>30.000000</td>\n",
              "      <td>60.000000</td>\n",
              "      <td>90.000000</td>\n",
              "      <td>365.000000</td>\n",
              "      <td>446.000000</td>\n",
              "      <td>118.000000</td>\n",
              "      <td>36.000000</td>\n",
              "      <td>100.000000</td>\n",
              "      <td>10.000000</td>\n",
              "      <td>10.000000</td>\n",
              "      <td>10.000000</td>\n",
              "      <td>10.000000</td>\n",
              "      <td>10.000000</td>\n",
              "      <td>10.000000</td>\n",
              "      <td>NaN</td>\n",
              "      <td>295.000000</td>\n",
              "      <td>246.000000</td>\n",
              "      <td>49.000000</td>\n",
              "      <td>11.000000</td>\n",
              "      <td>29.530000</td>\n",
              "    </tr>\n",
              "  </tbody>\n",
              "</table>\n",
              "</div>"
            ],
            "text/plain": [
              "                 id  ...  reviews_per_month\n",
              "count  2.661500e+04  ...       16657.000000\n",
              "mean   2.526448e+07  ...           0.629190\n",
              "std    1.573416e+07  ...           0.876064\n",
              "min    1.787800e+04  ...           0.010000\n",
              "25%    1.220219e+07  ...           0.090000\n",
              "50%    2.374090e+07  ...           0.270000\n",
              "75%    4.089613e+07  ...           0.850000\n",
              "max    4.827600e+07  ...          29.530000\n",
              "\n",
              "[8 rows x 41 columns]"
            ]
          },
          "metadata": {
            "tags": []
          },
          "execution_count": 7
        }
      ]
    },
    {
      "cell_type": "code",
      "metadata": {
        "colab": {
          "base_uri": "https://localhost:8080/"
        },
        "id": "NIqZ99k4DfUa",
        "outputId": "17d029d1-53d8-40db-8f17-15d61e636c99"
      },
      "source": [
        "#Analyzing null values\n",
        "for column, proportion in (listings.isnull().sum() * 100 / len(listings)).items():\n",
        "  print(f\"Column {column}: {proportion}%\")"
      ],
      "execution_count": 9,
      "outputs": [
        {
          "output_type": "stream",
          "text": [
            "Column id: 0.0%\n",
            "Column listing_url: 0.0%\n",
            "Column scrape_id: 0.0%\n",
            "Column last_scraped: 0.0%\n",
            "Column name: 0.10896111215479992%\n",
            "Column description: 5.466842006387376%\n",
            "Column neighborhood_overview: 46.21829795228255%\n",
            "Column picture_url: 0.0%\n",
            "Column host_id: 0.0%\n",
            "Column host_url: 0.0%\n",
            "Column host_name: 0.09017471350742062%\n",
            "Column host_since: 0.09017471350742062%\n",
            "Column host_location: 0.40202893105391696%\n",
            "Column host_about: 51.549877888408794%\n",
            "Column host_response_time: 30.11835431147849%\n",
            "Column host_response_rate: 30.11835431147849%\n",
            "Column host_acceptance_rate: 35.84820589892917%\n",
            "Column host_is_superhost: 0.09017471350742062%\n",
            "Column host_thumbnail_url: 0.09017471350742062%\n",
            "Column host_picture_url: 0.09017471350742062%\n",
            "Column host_neighbourhood: 42.348299830922414%\n",
            "Column host_listings_count: 0.09017471350742062%\n",
            "Column host_total_listings_count: 0.09017471350742062%\n",
            "Column host_verifications: 0.0%\n",
            "Column host_has_profile_pic: 0.09017471350742062%\n",
            "Column host_identity_verified: 0.09017471350742062%\n",
            "Column neighbourhood: 46.21829795228255%\n",
            "Column neighbourhood_cleansed: 0.0%\n",
            "Column neighbourhood_group_cleansed: 100.0%\n",
            "Column latitude: 0.0%\n",
            "Column longitude: 0.0%\n",
            "Column property_type: 0.0%\n",
            "Column room_type: 0.0%\n",
            "Column accommodates: 0.0%\n",
            "Column bathrooms: 100.0%\n",
            "Column bathrooms_text: 0.27052414052226187%\n",
            "Column bedrooms: 6.560210407664851%\n",
            "Column beds: 0.9468344918279166%\n",
            "Column amenities: 0.0%\n",
            "Column price: 0.0%\n",
            "Column minimum_nights: 0.0%\n",
            "Column maximum_nights: 0.0%\n",
            "Column minimum_minimum_nights: 0.3156114972759722%\n",
            "Column maximum_minimum_nights: 0.3156114972759722%\n",
            "Column minimum_maximum_nights: 0.3156114972759722%\n",
            "Column maximum_maximum_nights: 0.3156114972759722%\n",
            "Column minimum_nights_avg_ntm: 0.3156114972759722%\n",
            "Column maximum_nights_avg_ntm: 0.3156114972759722%\n",
            "Column calendar_updated: 100.0%\n",
            "Column has_availability: 0.0%\n",
            "Column availability_30: 0.0%\n",
            "Column availability_60: 0.0%\n",
            "Column availability_90: 0.0%\n",
            "Column availability_365: 0.0%\n",
            "Column calendar_last_scraped: 0.0%\n",
            "Column number_of_reviews: 0.0%\n",
            "Column number_of_reviews_ltm: 0.0%\n",
            "Column number_of_reviews_l30d: 0.0%\n",
            "Column first_review: 37.41499154612061%\n",
            "Column last_review: 37.41499154612061%\n",
            "Column review_scores_rating: 39.4401653203081%\n",
            "Column review_scores_accuracy: 39.492767236520756%\n",
            "Column review_scores_cleanliness: 39.48149539733233%\n",
            "Column review_scores_checkin: 39.48525267706181%\n",
            "Column review_scores_communication: 39.47022355814391%\n",
            "Column review_scores_location: 39.48525267706181%\n",
            "Column review_scores_value: 39.477738117602854%\n",
            "Column license: 100.0%\n",
            "Column instant_bookable: 0.0%\n",
            "Column calculated_host_listings_count: 0.0%\n",
            "Column calculated_host_listings_count_entire_homes: 0.0%\n",
            "Column calculated_host_listings_count_private_rooms: 0.0%\n",
            "Column calculated_host_listings_count_shared_rooms: 0.0%\n",
            "Column reviews_per_month: 37.41499154612061%\n"
          ],
          "name": "stdout"
        }
      ]
    },
    {
      "cell_type": "code",
      "metadata": {
        "colab": {
          "base_uri": "https://localhost:8080/",
          "height": 193
        },
        "id": "h4VAnd7eahy8",
        "outputId": "4ed81132-1d37-4563-8497-0f6a2f930f45"
      },
      "source": [
        "# Selecting just the main columns that we'll use on the EDA\n",
        "# 'id', 'host_response_time', 'host_response_rate', 'host_is_superhost', \n",
        "# 'review_scores_rating', 'price', 'room_type'\n",
        "\n",
        "listings_analysis = listings[['id', 'host_response_time', 'host_acceptance_rate', 'host_is_superhost', 'latitude', 'longitude',\n",
        "                              'review_scores_rating', 'price', 'room_type', 'accommodates', 'bedrooms', 'minimum_nights', 'number_of_reviews']]\n",
        "listings_analysis.head(3)"
      ],
      "execution_count": 10,
      "outputs": [
        {
          "output_type": "execute_result",
          "data": {
            "text/html": [
              "<div>\n",
              "<style scoped>\n",
              "    .dataframe tbody tr th:only-of-type {\n",
              "        vertical-align: middle;\n",
              "    }\n",
              "\n",
              "    .dataframe tbody tr th {\n",
              "        vertical-align: top;\n",
              "    }\n",
              "\n",
              "    .dataframe thead th {\n",
              "        text-align: right;\n",
              "    }\n",
              "</style>\n",
              "<table border=\"1\" class=\"dataframe\">\n",
              "  <thead>\n",
              "    <tr style=\"text-align: right;\">\n",
              "      <th></th>\n",
              "      <th>id</th>\n",
              "      <th>host_response_time</th>\n",
              "      <th>host_acceptance_rate</th>\n",
              "      <th>host_is_superhost</th>\n",
              "      <th>latitude</th>\n",
              "      <th>longitude</th>\n",
              "      <th>review_scores_rating</th>\n",
              "      <th>price</th>\n",
              "      <th>room_type</th>\n",
              "      <th>accommodates</th>\n",
              "      <th>bedrooms</th>\n",
              "      <th>minimum_nights</th>\n",
              "      <th>number_of_reviews</th>\n",
              "    </tr>\n",
              "  </thead>\n",
              "  <tbody>\n",
              "    <tr>\n",
              "      <th>0</th>\n",
              "      <td>17878</td>\n",
              "      <td>within an hour</td>\n",
              "      <td>100%</td>\n",
              "      <td>t</td>\n",
              "      <td>-22.96592</td>\n",
              "      <td>-43.17896</td>\n",
              "      <td>94.0</td>\n",
              "      <td>$221.00</td>\n",
              "      <td>Entire home/apt</td>\n",
              "      <td>5</td>\n",
              "      <td>2.0</td>\n",
              "      <td>5</td>\n",
              "      <td>260</td>\n",
              "    </tr>\n",
              "    <tr>\n",
              "      <th>1</th>\n",
              "      <td>24480</td>\n",
              "      <td>within a few hours</td>\n",
              "      <td>NaN</td>\n",
              "      <td>f</td>\n",
              "      <td>-22.98570</td>\n",
              "      <td>-43.20193</td>\n",
              "      <td>95.0</td>\n",
              "      <td>$307.00</td>\n",
              "      <td>Entire home/apt</td>\n",
              "      <td>2</td>\n",
              "      <td>1.0</td>\n",
              "      <td>3</td>\n",
              "      <td>85</td>\n",
              "    </tr>\n",
              "    <tr>\n",
              "      <th>2</th>\n",
              "      <td>25026</td>\n",
              "      <td>within a few hours</td>\n",
              "      <td>78%</td>\n",
              "      <td>f</td>\n",
              "      <td>-22.97712</td>\n",
              "      <td>-43.19045</td>\n",
              "      <td>94.0</td>\n",
              "      <td>$160.00</td>\n",
              "      <td>Entire home/apt</td>\n",
              "      <td>2</td>\n",
              "      <td>1.0</td>\n",
              "      <td>7</td>\n",
              "      <td>238</td>\n",
              "    </tr>\n",
              "  </tbody>\n",
              "</table>\n",
              "</div>"
            ],
            "text/plain": [
              "      id  host_response_time  ... minimum_nights number_of_reviews\n",
              "0  17878      within an hour  ...              5               260\n",
              "1  24480  within a few hours  ...              3                85\n",
              "2  25026  within a few hours  ...              7               238\n",
              "\n",
              "[3 rows x 13 columns]"
            ]
          },
          "metadata": {
            "tags": []
          },
          "execution_count": 10
        }
      ]
    },
    {
      "cell_type": "code",
      "metadata": {
        "colab": {
          "base_uri": "https://localhost:8080/",
          "height": 297
        },
        "id": "94O2JoByl_RQ",
        "outputId": "20044db6-386e-4c35-e7d7-da8c59ede069"
      },
      "source": [
        "listings_analysis.describe()"
      ],
      "execution_count": 11,
      "outputs": [
        {
          "output_type": "execute_result",
          "data": {
            "text/html": [
              "<div>\n",
              "<style scoped>\n",
              "    .dataframe tbody tr th:only-of-type {\n",
              "        vertical-align: middle;\n",
              "    }\n",
              "\n",
              "    .dataframe tbody tr th {\n",
              "        vertical-align: top;\n",
              "    }\n",
              "\n",
              "    .dataframe thead th {\n",
              "        text-align: right;\n",
              "    }\n",
              "</style>\n",
              "<table border=\"1\" class=\"dataframe\">\n",
              "  <thead>\n",
              "    <tr style=\"text-align: right;\">\n",
              "      <th></th>\n",
              "      <th>id</th>\n",
              "      <th>latitude</th>\n",
              "      <th>longitude</th>\n",
              "      <th>review_scores_rating</th>\n",
              "      <th>accommodates</th>\n",
              "      <th>bedrooms</th>\n",
              "      <th>minimum_nights</th>\n",
              "      <th>number_of_reviews</th>\n",
              "    </tr>\n",
              "  </thead>\n",
              "  <tbody>\n",
              "    <tr>\n",
              "      <th>count</th>\n",
              "      <td>2.661500e+04</td>\n",
              "      <td>26615.000000</td>\n",
              "      <td>26615.000000</td>\n",
              "      <td>16118.000000</td>\n",
              "      <td>26615.000000</td>\n",
              "      <td>24869.000000</td>\n",
              "      <td>26615.000000</td>\n",
              "      <td>26615.000000</td>\n",
              "    </tr>\n",
              "    <tr>\n",
              "      <th>mean</th>\n",
              "      <td>2.526448e+07</td>\n",
              "      <td>-22.965837</td>\n",
              "      <td>-43.248533</td>\n",
              "      <td>94.571349</td>\n",
              "      <td>4.161112</td>\n",
              "      <td>1.707909</td>\n",
              "      <td>4.725268</td>\n",
              "      <td>12.146308</td>\n",
              "    </tr>\n",
              "    <tr>\n",
              "      <th>std</th>\n",
              "      <td>1.573416e+07</td>\n",
              "      <td>0.034971</td>\n",
              "      <td>0.096296</td>\n",
              "      <td>9.740887</td>\n",
              "      <td>2.494174</td>\n",
              "      <td>1.054267</td>\n",
              "      <td>19.102522</td>\n",
              "      <td>29.722813</td>\n",
              "    </tr>\n",
              "    <tr>\n",
              "      <th>min</th>\n",
              "      <td>1.787800e+04</td>\n",
              "      <td>-23.072920</td>\n",
              "      <td>-43.704790</td>\n",
              "      <td>20.000000</td>\n",
              "      <td>0.000000</td>\n",
              "      <td>1.000000</td>\n",
              "      <td>1.000000</td>\n",
              "      <td>0.000000</td>\n",
              "    </tr>\n",
              "    <tr>\n",
              "      <th>25%</th>\n",
              "      <td>1.220219e+07</td>\n",
              "      <td>-22.984570</td>\n",
              "      <td>-43.304090</td>\n",
              "      <td>93.000000</td>\n",
              "      <td>2.000000</td>\n",
              "      <td>1.000000</td>\n",
              "      <td>1.000000</td>\n",
              "      <td>0.000000</td>\n",
              "    </tr>\n",
              "    <tr>\n",
              "      <th>50%</th>\n",
              "      <td>2.374090e+07</td>\n",
              "      <td>-22.971700</td>\n",
              "      <td>-43.196210</td>\n",
              "      <td>98.000000</td>\n",
              "      <td>4.000000</td>\n",
              "      <td>1.000000</td>\n",
              "      <td>2.000000</td>\n",
              "      <td>2.000000</td>\n",
              "    </tr>\n",
              "    <tr>\n",
              "      <th>75%</th>\n",
              "      <td>4.089613e+07</td>\n",
              "      <td>-22.951575</td>\n",
              "      <td>-43.186300</td>\n",
              "      <td>100.000000</td>\n",
              "      <td>5.000000</td>\n",
              "      <td>2.000000</td>\n",
              "      <td>4.000000</td>\n",
              "      <td>9.000000</td>\n",
              "    </tr>\n",
              "    <tr>\n",
              "      <th>max</th>\n",
              "      <td>4.827600e+07</td>\n",
              "      <td>-22.749820</td>\n",
              "      <td>-43.104860</td>\n",
              "      <td>100.000000</td>\n",
              "      <td>16.000000</td>\n",
              "      <td>30.000000</td>\n",
              "      <td>1000.000000</td>\n",
              "      <td>446.000000</td>\n",
              "    </tr>\n",
              "  </tbody>\n",
              "</table>\n",
              "</div>"
            ],
            "text/plain": [
              "                 id      latitude  ...  minimum_nights  number_of_reviews\n",
              "count  2.661500e+04  26615.000000  ...    26615.000000       26615.000000\n",
              "mean   2.526448e+07    -22.965837  ...        4.725268          12.146308\n",
              "std    1.573416e+07      0.034971  ...       19.102522          29.722813\n",
              "min    1.787800e+04    -23.072920  ...        1.000000           0.000000\n",
              "25%    1.220219e+07    -22.984570  ...        1.000000           0.000000\n",
              "50%    2.374090e+07    -22.971700  ...        2.000000           2.000000\n",
              "75%    4.089613e+07    -22.951575  ...        4.000000           9.000000\n",
              "max    4.827600e+07    -22.749820  ...     1000.000000         446.000000\n",
              "\n",
              "[8 rows x 8 columns]"
            ]
          },
          "metadata": {
            "tags": []
          },
          "execution_count": 11
        }
      ]
    },
    {
      "cell_type": "markdown",
      "metadata": {
        "id": "YBnfGbnHmHbR"
      },
      "source": [
        "**Why only these six columns appear?**\n",
        "\n",
        "The describe () method brings descriptive statistics information only from numerical data !!\n",
        "\n",
        "We can use dtypes to identify the types of variables we have in our data!"
      ]
    },
    {
      "cell_type": "code",
      "metadata": {
        "colab": {
          "base_uri": "https://localhost:8080/"
        },
        "id": "7Wcds2QymIIm",
        "outputId": "e7b27560-b2f8-4d73-b56c-ab91efeaf1b7"
      },
      "source": [
        "# Print dos tipos de variáveis do nosso dataframe\n",
        "listings_analysis.dtypes"
      ],
      "execution_count": 12,
      "outputs": [
        {
          "output_type": "execute_result",
          "data": {
            "text/plain": [
              "id                        int64\n",
              "host_response_time       object\n",
              "host_acceptance_rate     object\n",
              "host_is_superhost        object\n",
              "latitude                float64\n",
              "longitude               float64\n",
              "review_scores_rating    float64\n",
              "price                    object\n",
              "room_type                object\n",
              "accommodates              int64\n",
              "bedrooms                float64\n",
              "minimum_nights            int64\n",
              "number_of_reviews         int64\n",
              "dtype: object"
            ]
          },
          "metadata": {
            "tags": []
          },
          "execution_count": 12
        }
      ]
    },
    {
      "cell_type": "markdown",
      "metadata": {
        "id": "wyeCCG4kmdsv"
      },
      "source": [
        "we have three types of variables within our dataframe:\n",
        "\n",
        "1. int64: are the whole numbers\n",
        "2. float64: are rational numbers (those that have a comma and can be positive or negative)\n",
        "3. object: are those that are considered strings (a string!)\n",
        "\n",
        "Article: https://pbpython.com/pandas_dtypes.html"
      ]
    },
    {
      "cell_type": "markdown",
      "metadata": {
        "id": "omzvy3awzLRk"
      },
      "source": [
        "### 2.2 Creating business questions to be answered\n",
        "\n",
        "This is a crucial step for us to do data exploration if we want to guide data exploration!\n",
        "\n",
        "Some ideas that we will work on:\n",
        "\n",
        "1. How are rental prices distributed in the city of Rio de Janeiro?\n",
        "2. Is there a price difference in the different types of accommodation?\n",
        "3. By type of accommodation, do superhost's have better ratings than non-superhost's?"
      ]
    },
    {
      "cell_type": "markdown",
      "metadata": {
        "id": "bDKVS74t1bVC"
      },
      "source": [
        "#### 2.2.1 [Univariate Analysis] How are rental prices distributed in the city of Rio de Janeiro?\n",
        "\n",
        "Are we going to analyze the price variable and understand how these prices are distributed across the city? What will be our most common price range for the city? :)"
      ]
    },
    {
      "cell_type": "code",
      "metadata": {
        "colab": {
          "base_uri": "https://localhost:8080/",
          "height": 193
        },
        "id": "umK22EipuBP6",
        "outputId": "0f9317ac-0052-440b-f495-09597c1050dd"
      },
      "source": [
        "# Dataframe print\n",
        "listings_analysis.head(3)"
      ],
      "execution_count": 13,
      "outputs": [
        {
          "output_type": "execute_result",
          "data": {
            "text/html": [
              "<div>\n",
              "<style scoped>\n",
              "    .dataframe tbody tr th:only-of-type {\n",
              "        vertical-align: middle;\n",
              "    }\n",
              "\n",
              "    .dataframe tbody tr th {\n",
              "        vertical-align: top;\n",
              "    }\n",
              "\n",
              "    .dataframe thead th {\n",
              "        text-align: right;\n",
              "    }\n",
              "</style>\n",
              "<table border=\"1\" class=\"dataframe\">\n",
              "  <thead>\n",
              "    <tr style=\"text-align: right;\">\n",
              "      <th></th>\n",
              "      <th>id</th>\n",
              "      <th>host_response_time</th>\n",
              "      <th>host_acceptance_rate</th>\n",
              "      <th>host_is_superhost</th>\n",
              "      <th>latitude</th>\n",
              "      <th>longitude</th>\n",
              "      <th>review_scores_rating</th>\n",
              "      <th>price</th>\n",
              "      <th>room_type</th>\n",
              "      <th>accommodates</th>\n",
              "      <th>bedrooms</th>\n",
              "      <th>minimum_nights</th>\n",
              "      <th>number_of_reviews</th>\n",
              "    </tr>\n",
              "  </thead>\n",
              "  <tbody>\n",
              "    <tr>\n",
              "      <th>0</th>\n",
              "      <td>17878</td>\n",
              "      <td>within an hour</td>\n",
              "      <td>100%</td>\n",
              "      <td>t</td>\n",
              "      <td>-22.96592</td>\n",
              "      <td>-43.17896</td>\n",
              "      <td>94.0</td>\n",
              "      <td>$221.00</td>\n",
              "      <td>Entire home/apt</td>\n",
              "      <td>5</td>\n",
              "      <td>2.0</td>\n",
              "      <td>5</td>\n",
              "      <td>260</td>\n",
              "    </tr>\n",
              "    <tr>\n",
              "      <th>1</th>\n",
              "      <td>24480</td>\n",
              "      <td>within a few hours</td>\n",
              "      <td>NaN</td>\n",
              "      <td>f</td>\n",
              "      <td>-22.98570</td>\n",
              "      <td>-43.20193</td>\n",
              "      <td>95.0</td>\n",
              "      <td>$307.00</td>\n",
              "      <td>Entire home/apt</td>\n",
              "      <td>2</td>\n",
              "      <td>1.0</td>\n",
              "      <td>3</td>\n",
              "      <td>85</td>\n",
              "    </tr>\n",
              "    <tr>\n",
              "      <th>2</th>\n",
              "      <td>25026</td>\n",
              "      <td>within a few hours</td>\n",
              "      <td>78%</td>\n",
              "      <td>f</td>\n",
              "      <td>-22.97712</td>\n",
              "      <td>-43.19045</td>\n",
              "      <td>94.0</td>\n",
              "      <td>$160.00</td>\n",
              "      <td>Entire home/apt</td>\n",
              "      <td>2</td>\n",
              "      <td>1.0</td>\n",
              "      <td>7</td>\n",
              "      <td>238</td>\n",
              "    </tr>\n",
              "  </tbody>\n",
              "</table>\n",
              "</div>"
            ],
            "text/plain": [
              "      id  host_response_time  ... minimum_nights number_of_reviews\n",
              "0  17878      within an hour  ...              5               260\n",
              "1  24480  within a few hours  ...              3                85\n",
              "2  25026  within a few hours  ...              7               238\n",
              "\n",
              "[3 rows x 13 columns]"
            ]
          },
          "metadata": {
            "tags": []
          },
          "execution_count": 13
        }
      ]
    },
    {
      "cell_type": "markdown",
      "metadata": {
        "id": "PoPqNjG1ukXc"
      },
      "source": [
        "Shall we use a graph to analyze the distribution?\n",
        "\n",
        "We'll use a histogram graph to look at how the distribution is!"
      ]
    },
    {
      "cell_type": "code",
      "metadata": {
        "colab": {
          "base_uri": "https://localhost:8080/",
          "height": 279
        },
        "id": "it4HqDzO6UyD",
        "outputId": "0d2dab52-f05c-4d43-d846-8184646db26c"
      },
      "source": [
        "# Plotting histogram of the value price\n",
        "sns.histplot(listings_analysis['price']);"
      ],
      "execution_count": 14,
      "outputs": [
        {
          "output_type": "display_data",
          "data": {
            "image/png": "[encoded data removed]",
            "text/plain": [
              "<Figure size 432x288 with 1 Axes>"
            ]
          },
          "metadata": {
            "tags": [],
            "needs_background": "light"
          }
        }
      ]
    },
    {
      "cell_type": "markdown",
      "metadata": {
        "id": "4ompAjXQu_s-"
      },
      "source": [
        "We have several classes in this case? For each single price value, a value has been created on the x-axis! That's why we have all this mess!\n",
        "\n",
        "But how can we extract the price value (string) as a number?\n",
        "\n",
        "We will use the re (Regular expression opeerations) library that works with identification and extraction of string information, let's see!\n",
        "\n",
        "re documentation: https://docs.python.org/3/library/re.html"
      ]
    },
    {
      "cell_type": "code",
      "metadata": {
        "colab": {
          "base_uri": "https://localhost:8080/"
        },
        "id": "iQligZNc14jE",
        "outputId": "210f310e-4d6d-4bbe-8742-f2a56072fbd5"
      },
      "source": [
        "# Extracting the number value of price\n",
        "listings_analysis.loc[:, 'price_numeric'] = listings_analysis['price']\n",
        "\n",
        "# Removing special char '$'\n",
        "listings_analysis.loc[:, 'price_numeric'] = listings_analysis['price_numeric'].apply(lambda x: re.sub(r\"\\$\", \"\", x))\n",
        "\n",
        "# Removing ',' \n",
        "listings_analysis.loc[:, 'price_numeric'] = listings_analysis['price_numeric'].apply(lambda x: re.sub(r\",\", \"\", x))\n",
        "\n",
        "# Transforming in numeric value\n",
        "listings_analysis.loc[:, 'price_numeric'] = pd.to_numeric(listings_analysis['price_numeric'])"
      ],
      "execution_count": 15,
      "outputs": [
        {
          "output_type": "stream",
          "text": [
            "/usr/local/lib/python3.7/dist-packages/pandas/core/indexing.py:1596: SettingWithCopyWarning: \n",
            "A value is trying to be set on a copy of a slice from a DataFrame.\n",
            "Try using .loc[row_indexer,col_indexer] = value instead\n",
            "\n",
            "See the caveats in the documentation: https://pandas.pydata.org/pandas-docs/stable/user_guide/indexing.html#returning-a-view-versus-a-copy\n",
            "  self.obj[key] = _infer_fill_value(value)\n",
            "/usr/local/lib/python3.7/dist-packages/pandas/core/indexing.py:1743: SettingWithCopyWarning: \n",
            "A value is trying to be set on a copy of a slice from a DataFrame.\n",
            "Try using .loc[row_indexer,col_indexer] = value instead\n",
            "\n",
            "See the caveats in the documentation: https://pandas.pydata.org/pandas-docs/stable/user_guide/indexing.html#returning-a-view-versus-a-copy\n",
            "  isetter(ilocs[0], value)\n"
          ],
          "name": "stderr"
        }
      ]
    },
    {
      "cell_type": "code",
      "metadata": {
        "colab": {
          "base_uri": "https://localhost:8080/"
        },
        "id": "23rytm-rycnr",
        "outputId": "e91403c1-24c7-4943-fb29-6cead428dd3f"
      },
      "source": [
        "# Verifying type column\n",
        "listings_analysis['price_numeric'].dtypes"
      ],
      "execution_count": 16,
      "outputs": [
        {
          "output_type": "execute_result",
          "data": {
            "text/plain": [
              "dtype('float64')"
            ]
          },
          "metadata": {
            "tags": []
          },
          "execution_count": 16
        }
      ]
    },
    {
      "cell_type": "code",
      "metadata": {
        "colab": {
          "base_uri": "https://localhost:8080/",
          "height": 359
        },
        "id": "Xz81y9qxzk_0",
        "outputId": "bad3dbd5-ac31-47da-fe2b-c0f9b82b66c8"
      },
      "source": [
        "listings_analysis[['price', 'price_numeric']].head(10)"
      ],
      "execution_count": 17,
      "outputs": [
        {
          "output_type": "execute_result",
          "data": {
            "text/html": [
              "<div>\n",
              "<style scoped>\n",
              "    .dataframe tbody tr th:only-of-type {\n",
              "        vertical-align: middle;\n",
              "    }\n",
              "\n",
              "    .dataframe tbody tr th {\n",
              "        vertical-align: top;\n",
              "    }\n",
              "\n",
              "    .dataframe thead th {\n",
              "        text-align: right;\n",
              "    }\n",
              "</style>\n",
              "<table border=\"1\" class=\"dataframe\">\n",
              "  <thead>\n",
              "    <tr style=\"text-align: right;\">\n",
              "      <th></th>\n",
              "      <th>price</th>\n",
              "      <th>price_numeric</th>\n",
              "    </tr>\n",
              "  </thead>\n",
              "  <tbody>\n",
              "    <tr>\n",
              "      <th>0</th>\n",
              "      <td>$221.00</td>\n",
              "      <td>221.0</td>\n",
              "    </tr>\n",
              "    <tr>\n",
              "      <th>1</th>\n",
              "      <td>$307.00</td>\n",
              "      <td>307.0</td>\n",
              "    </tr>\n",
              "    <tr>\n",
              "      <th>2</th>\n",
              "      <td>$160.00</td>\n",
              "      <td>160.0</td>\n",
              "    </tr>\n",
              "    <tr>\n",
              "      <th>3</th>\n",
              "      <td>$273.00</td>\n",
              "      <td>273.0</td>\n",
              "    </tr>\n",
              "    <tr>\n",
              "      <th>4</th>\n",
              "      <td>$135.00</td>\n",
              "      <td>135.0</td>\n",
              "    </tr>\n",
              "    <tr>\n",
              "      <th>5</th>\n",
              "      <td>$484.00</td>\n",
              "      <td>484.0</td>\n",
              "    </tr>\n",
              "    <tr>\n",
              "      <th>6</th>\n",
              "      <td>$1,751.00</td>\n",
              "      <td>1751.0</td>\n",
              "    </tr>\n",
              "    <tr>\n",
              "      <th>7</th>\n",
              "      <td>$540.00</td>\n",
              "      <td>540.0</td>\n",
              "    </tr>\n",
              "    <tr>\n",
              "      <th>8</th>\n",
              "      <td>$160.00</td>\n",
              "      <td>160.0</td>\n",
              "    </tr>\n",
              "    <tr>\n",
              "      <th>9</th>\n",
              "      <td>$782.00</td>\n",
              "      <td>782.0</td>\n",
              "    </tr>\n",
              "  </tbody>\n",
              "</table>\n",
              "</div>"
            ],
            "text/plain": [
              "       price  price_numeric\n",
              "0    $221.00          221.0\n",
              "1    $307.00          307.0\n",
              "2    $160.00          160.0\n",
              "3    $273.00          273.0\n",
              "4    $135.00          135.0\n",
              "5    $484.00          484.0\n",
              "6  $1,751.00         1751.0\n",
              "7    $540.00          540.0\n",
              "8    $160.00          160.0\n",
              "9    $782.00          782.0"
            ]
          },
          "metadata": {
            "tags": []
          },
          "execution_count": 17
        }
      ]
    },
    {
      "cell_type": "markdown",
      "metadata": {
        "id": "HM3_ZFoJzv5B"
      },
      "source": [
        "After all this transformation, we are going to plot our histogram with the numerical value of price!\n",
        "\n",
        "Let's see how it looks!"
      ]
    },
    {
      "cell_type": "code",
      "metadata": {
        "colab": {
          "base_uri": "https://localhost:8080/",
          "height": 280
        },
        "id": "SkCsP7oazvG7",
        "outputId": "5394165e-d0f9-472e-cccb-04a96de6a290"
      },
      "source": [
        "# Plotando histograma com a variável price com valor em numérico\n",
        "sns.histplot(listings_analysis['price_numeric']);"
      ],
      "execution_count": 18,
      "outputs": [
        {
          "output_type": "display_data",
          "data": {
            "image/png": "[encoded data removed]",
            "text/plain": [
              "<Figure size 432x288 with 1 Axes>"
            ]
          },
          "metadata": {
            "tags": [],
            "needs_background": "light"
          }
        }
      ]
    },
    {
      "cell_type": "code",
      "metadata": {
        "colab": {
          "base_uri": "https://localhost:8080/",
          "height": 252
        },
        "id": "sntUx_7s0c5V",
        "outputId": "057ba118-be44-4468-aaef-629ca7a7edf4"
      },
      "source": [
        "# Plotando boxplot com a variável price com valor em numérico\n",
        "sns.boxplot(y=listings_analysis['price_numeric']);"
      ],
      "execution_count": 19,
      "outputs": [
        {
          "output_type": "display_data",
          "data": {
            "image/png": "[encoded data removed]",
            "text/plain": [
              "<Figure size 432x288 with 1 Axes>"
            ]
          },
          "metadata": {
            "tags": [],
            "needs_background": "light"
          }
        }
      ]
    },
    {
      "cell_type": "markdown",
      "metadata": {
        "id": "aaDPlC7w1AmY"
      },
      "source": [
        "**Why can't we see the data in the plots if they are already numeric?**\n",
        "\n",
        "It's the outliers! There are some outliers that are affecting our distribution and therefore we are not being able to see our plot as we wanted!\n",
        "\n",
        "Let's remove the outliers to see our chart better!"
      ]
    },
    {
      "cell_type": "code",
      "metadata": {
        "colab": {
          "base_uri": "https://localhost:8080/"
        },
        "id": "1DSNN_T92g3r",
        "outputId": "44b95d1e-0647-40d6-d723-71a391a6fec7"
      },
      "source": [
        "## APPROACH REMOVING OUTLIERS THROUGH THE WHISKERS OF THE BOXPLOT: KNOWN AS IQR INTERQUARTILE DISTANCE\n",
        "## Artigo: https://towardsdatascience.com/understanding-boxplots-5e2df7bcbd51\n",
        "prices = listings_analysis['price_numeric']\n",
        "Q1 = listings_analysis['price_numeric'].quantile(0.25)\n",
        "Q3 = listings_analysis['price_numeric'].quantile(0.75)\n",
        "IQR = Q3 - Q1    #IQR is interquartile range. \n",
        "lower_whisker = Q1 - 1.5*IQR\n",
        "upper_whisker = Q3 + 1.5*IQR\n",
        "\n",
        "if lower_whisker < listings_analysis['price_numeric'].describe()['min']:\n",
        "  lower_whisker = listings_analysis['price_numeric'].describe()['min']\n",
        "elif upper_whisker > listings_analysis['price_numeric'].describe()['max']:\n",
        "  upper_whisker = listings_analysis['price_numeric'].describe()['max']\n",
        "\n",
        "print(\"Nosso valor do whisker mínimo e whisker máximo: \")\n",
        "lower_whisker, upper_whisker"
      ],
      "execution_count": 20,
      "outputs": [
        {
          "output_type": "stream",
          "text": [
            "Nosso valor do whisker mínimo e whisker máximo: \n"
          ],
          "name": "stdout"
        },
        {
          "output_type": "execute_result",
          "data": {
            "text/plain": [
              "(0.0, 1139.5)"
            ]
          },
          "metadata": {
            "tags": []
          },
          "execution_count": 20
        }
      ]
    },
    {
      "cell_type": "code",
      "metadata": {
        "colab": {
          "base_uri": "https://localhost:8080/",
          "height": 280
        },
        "id": "xhQ30j3N27el",
        "outputId": "edd38bde-ed11-41f6-ee26-c47962baed88"
      },
      "source": [
        "# Plotting price without outliers\n",
        "sns.histplot(listings_analysis['price_numeric'], binrange=(lower_whisker, upper_whisker));"
      ],
      "execution_count": 21,
      "outputs": [
        {
          "output_type": "display_data",
          "data": {
            "image/png": "[encoded data removed]",
            "text/plain": [
              "<Figure size 432x288 with 1 Axes>"
            ]
          },
          "metadata": {
            "tags": [],
            "needs_background": "light"
          }
        }
      ]
    },
    {
      "cell_type": "code",
      "metadata": {
        "colab": {
          "base_uri": "https://localhost:8080/",
          "height": 252
        },
        "id": "wHkc1ofh1ADI",
        "outputId": "5e868ff4-2695-47bc-bb66-22361cc9f862"
      },
      "source": [
        "# Plotting BoxPlot without outliers\n",
        "sns.boxplot(y=listings_analysis['price_numeric'], showfliers=False);"
      ],
      "execution_count": 22,
      "outputs": [
        {
          "output_type": "display_data",
          "data": {
            "image/png": "[encoded data removed]",
            "text/plain": [
              "<Figure size 432x288 with 1 Axes>"
            ]
          },
          "metadata": {
            "tags": [],
            "needs_background": "light"
          }
        }
      ]
    },
    {
      "cell_type": "markdown",
      "metadata": {
        "id": "C3YhlvFx4MsZ"
      },
      "source": [
        "Now, how do you plot the graphs side by side instead of cell by cell?"
      ]
    },
    {
      "cell_type": "code",
      "metadata": {
        "colab": {
          "base_uri": "https://localhost:8080/",
          "height": 370
        },
        "id": "0bPYPrWZ530z",
        "outputId": "72f9c209-988d-4bdb-833a-6e808328bca5"
      },
      "source": [
        "# Plotando Subplots\n",
        "# Referencia 1: (https://matplotlib.org/devdocs/gallery/subplots_axes_and_figures/subplots_demo.html)\n",
        "# Referência 2: (https://stackoverflow.com/questions/20174468/how-to-create-subplots-of-pictures-made-with-the-hist-function-in-matplotlib-p)\n",
        "\n",
        "fig, axs = plt.subplots(1, 2, figsize=(15,5))\n",
        "fig.suptitle('Plotting Distribution of House Prices')\n",
        "\n",
        "#Plotting Subplots\n",
        "sns.histplot(listings_analysis['price_numeric'], binrange=(lower_whisker, upper_whisker), ax=axs[0], color='g', alpha=0.5);\n",
        "sns.boxplot(y=listings_analysis['price_numeric'], showfliers=False, ax=axs[1], color='g', boxprops=dict(alpha=0.5));\n",
        "\n",
        "#Labeling Titles\n",
        "axs[0].set_title('Histogram of House Prices Without Outliers');\n",
        "axs[1].set_title('BoxPlot of House Prices Without Outliers');\n",
        "\n",
        "#Labeling Histogram\n",
        "axs[0].set_xlabel('Price');\n",
        "axs[0].set_ylabel('Quantity');\n",
        "\n",
        "#Labeling BoxPlot\n",
        "axs[1].set_xlabel('BoxPlot');\n",
        "axs[1].set_ylabel('Prices');"
      ],
      "execution_count": 23,
      "outputs": [
        {
          "output_type": "display_data",
          "data": {
            "image/png": "[encoded data removed]",
            "text/plain": [
              "<Figure size 1080x360 with 2 Axes>"
            ]
          },
          "metadata": {
            "tags": [],
            "needs_background": "light"
          }
        }
      ]
    },
    {
      "cell_type": "markdown",
      "metadata": {
        "id": "VpYW-F-dlFLf"
      },
      "source": [
        "Let's analyze the describe() of the variable?"
      ]
    },
    {
      "cell_type": "code",
      "metadata": {
        "colab": {
          "base_uri": "https://localhost:8080/"
        },
        "id": "8gHDf6SslDPE",
        "outputId": "9f3dd701-b9ea-4116-8e11-0d997511b960"
      },
      "source": [
        "listings_analysis['price_numeric'].describe()"
      ],
      "execution_count": 24,
      "outputs": [
        {
          "output_type": "execute_result",
          "data": {
            "text/plain": [
              "count     26615.000000\n",
              "mean        742.589254\n",
              "std        5368.868834\n",
              "min           0.000000\n",
              "25%         157.000000\n",
              "50%         280.000000\n",
              "75%         550.000000\n",
              "max      625216.000000\n",
              "Name: price_numeric, dtype: float64"
            ]
          },
          "metadata": {
            "tags": []
          },
          "execution_count": 24
        }
      ]
    },
    {
      "cell_type": "markdown",
      "metadata": {
        "id": "cKw7pl3SXNd_"
      },
      "source": [
        "**How are rental prices distributed in the city of Rio de Janeiro?**\n",
        "\n",
        "As we can see:\n",
        "- at least 50% of houses rent prices are less than 280,00\n",
        "- at least 75% of houses rent prices are less than 550,00 \n",
        "- the mean value of houses rent prices are $742! It's an indicative that we can have outliers that are \"forcing\" the mean value to be greater. \n",
        "\n",
        "If we'll travel to the Rio de Janeiro City we can know better if the price is very high or not! (Of course it's a simple analysis and doesn't take considerations about the type of houses even the regions!)\n",
        "\n"
      ]
    },
    {
      "cell_type": "markdown",
      "metadata": {
        "id": "zMVn3kBH1buT"
      },
      "source": [
        "#### 2.2.2 [Bivariate Analysis] Is there a price difference in the different types of accommodation?\n",
        "\n",
        "Now let's explore in the same way as the previous question but looking at the differences between the types of accommodation!"
      ]
    },
    {
      "cell_type": "code",
      "metadata": {
        "colab": {
          "base_uri": "https://localhost:8080/",
          "height": 475
        },
        "id": "GjHvPX2LtaN6",
        "outputId": "59ca1c70-b096-4694-d0e0-711521e4c051"
      },
      "source": [
        "# Plotting prices by Room Type\n",
        "plt.figure(figsize=(10, 7));\n",
        "plt.title(\"Boxplot Preços por Acomodação\");\n",
        "\n",
        "ax = sns.boxplot(y=listings_analysis['price_numeric'], \n",
        "            x=listings_analysis['room_type'], \n",
        "            showfliers=False, \n",
        "            boxprops=dict(alpha=0.5));\n",
        "\n",
        "ax.set(xlabel=\"Acomodação\", ylabel=\"Preço\")"
      ],
      "execution_count": 25,
      "outputs": [
        {
          "output_type": "execute_result",
          "data": {
            "text/plain": [
              "[Text(0, 0.5, 'Preço'), Text(0.5, 0, 'Acomodação')]"
            ]
          },
          "metadata": {
            "tags": []
          },
          "execution_count": 25
        },
        {
          "output_type": "display_data",
          "data": {
            "image/png": "[encoded data removed]",
            "text/plain": [
              "<Figure size 720x504 with 1 Axes>"
            ]
          },
          "metadata": {
            "tags": [],
            "needs_background": "light"
          }
        }
      ]
    },
    {
      "cell_type": "markdown",
      "metadata": {
        "id": "Ib4pg-cia4vw"
      },
      "source": [
        "Plotting the distribution!"
      ]
    },
    {
      "cell_type": "code",
      "metadata": {
        "colab": {
          "base_uri": "https://localhost:8080/",
          "height": 475
        },
        "id": "SUhJ-49icEMz",
        "outputId": "ffb8f98e-26a3-4e11-ff68-df0dcf34c475"
      },
      "source": [
        "# Plotando histograma com a variável price com valor em numérico\n",
        "plt.figure(figsize=(10, 7));\n",
        "plt.title(\"Distribuição Preços por Acomodação\");\n",
        "\n",
        "ax = sns.histplot(listings_analysis[['room_type', 'price_numeric']], \n",
        "                  x='price_numeric', \n",
        "                  binrange=(lower_whisker, upper_whisker), \n",
        "                  hue='room_type');\n",
        "\n",
        "ax.set(xlabel=\"Preço\", ylabel=\"Frequência\")"
      ],
      "execution_count": 26,
      "outputs": [
        {
          "output_type": "execute_result",
          "data": {
            "text/plain": [
              "[Text(0, 0.5, 'Frequência'), Text(0.5, 0, 'Preço')]"
            ]
          },
          "metadata": {
            "tags": []
          },
          "execution_count": 26
        },
        {
          "output_type": "display_data",
          "data": {
            "image/png": "[encoded data removed]",
            "text/plain": [
              "<Figure size 720x504 with 1 Axes>"
            ]
          },
          "metadata": {
            "tags": [],
            "needs_background": "light"
          }
        }
      ]
    },
    {
      "cell_type": "code",
      "metadata": {
        "colab": {
          "base_uri": "https://localhost:8080/",
          "height": 493
        },
        "id": "0nndZIk7jxrZ",
        "outputId": "e6aeef3f-88bc-4f86-efae-5ca3ebf5634b"
      },
      "source": [
        "# Plotting subplots\n",
        "# Ref 1: (https://matplotlib.org/devdocs/gallery/subplots_axes_and_figures/subplots_demo.html)\n",
        "# Ref 2: (https://stackoverflow.com/questions/20174468/how-to-create-subplots-of-pictures-made-with-the-hist-function-in-matplotlib-p)\n",
        "\n",
        "fig, axs = plt.subplots(1, 2, figsize=(20,7))\n",
        "fig.suptitle('Preços do Aluguel')\n",
        "\n",
        "#Plotting Subplots\n",
        "sns.boxplot(y=listings_analysis['price_numeric'], \n",
        "                 x=listings_analysis['room_type'], \n",
        "                 showfliers=False,\n",
        "                 boxprops=dict(alpha=0.5),\n",
        "                 ax=axs[0]);\n",
        "\n",
        "sns.histplot(listings_analysis[['room_type', 'price_numeric']],\n",
        "             x='price_numeric',\n",
        "             binrange=(lower_whisker, upper_whisker),\n",
        "             hue='room_type',\n",
        "             ax=axs[1]);\n",
        "\n",
        "#Labeling Titles\n",
        "axs[0].set_title('BoxPlot of Houses Price per Accomodation');\n",
        "axs[1].set_title('Distribution of Houses Price per Accomodation');\n",
        "\n",
        "#Labeling Histogram\n",
        "axs[0].set_xlabel('Accomodation Type');\n",
        "axs[0].set_ylabel('Price');\n",
        "\n",
        "#Labeling BoxPlot\n",
        "axs[1].set_xlabel('Price');\n",
        "axs[1].set_ylabel('Freq');"
      ],
      "execution_count": 27,
      "outputs": [
        {
          "output_type": "display_data",
          "data": {
            "image/png": "[encoded data removed]",
            "text/plain": [
              "<Figure size 1440x504 with 2 Axes>"
            ]
          },
          "metadata": {
            "tags": [],
            "needs_background": "light"
          }
        }
      ]
    },
    {
      "cell_type": "markdown",
      "metadata": {
        "id": "n9mZl6J3lPBJ"
      },
      "source": [
        "Describing per type of accomodation!"
      ]
    },
    {
      "cell_type": "code",
      "metadata": {
        "colab": {
          "base_uri": "https://localhost:8080/",
          "height": 204
        },
        "id": "cHKSp75blOEf",
        "outputId": "0e2eaf83-965a-4d07-ceea-80f9c0d88b13"
      },
      "source": [
        "listings_analysis.groupby('room_type')['price_numeric'].describe()"
      ],
      "execution_count": 28,
      "outputs": [
        {
          "output_type": "execute_result",
          "data": {
            "text/html": [
              "<div>\n",
              "<style scoped>\n",
              "    .dataframe tbody tr th:only-of-type {\n",
              "        vertical-align: middle;\n",
              "    }\n",
              "\n",
              "    .dataframe tbody tr th {\n",
              "        vertical-align: top;\n",
              "    }\n",
              "\n",
              "    .dataframe thead th {\n",
              "        text-align: right;\n",
              "    }\n",
              "</style>\n",
              "<table border=\"1\" class=\"dataframe\">\n",
              "  <thead>\n",
              "    <tr style=\"text-align: right;\">\n",
              "      <th></th>\n",
              "      <th>count</th>\n",
              "      <th>mean</th>\n",
              "      <th>std</th>\n",
              "      <th>min</th>\n",
              "      <th>25%</th>\n",
              "      <th>50%</th>\n",
              "      <th>75%</th>\n",
              "      <th>max</th>\n",
              "    </tr>\n",
              "    <tr>\n",
              "      <th>room_type</th>\n",
              "      <th></th>\n",
              "      <th></th>\n",
              "      <th></th>\n",
              "      <th></th>\n",
              "      <th></th>\n",
              "      <th></th>\n",
              "      <th></th>\n",
              "      <th></th>\n",
              "    </tr>\n",
              "  </thead>\n",
              "  <tbody>\n",
              "    <tr>\n",
              "      <th>Entire home/apt</th>\n",
              "      <td>19285.0</td>\n",
              "      <td>823.069277</td>\n",
              "      <td>3669.685038</td>\n",
              "      <td>43.0</td>\n",
              "      <td>200.0</td>\n",
              "      <td>350.0</td>\n",
              "      <td>698.0</td>\n",
              "      <td>129233.0</td>\n",
              "    </tr>\n",
              "    <tr>\n",
              "      <th>Hotel room</th>\n",
              "      <td>99.0</td>\n",
              "      <td>325.212121</td>\n",
              "      <td>1008.519821</td>\n",
              "      <td>0.0</td>\n",
              "      <td>80.0</td>\n",
              "      <td>183.0</td>\n",
              "      <td>290.0</td>\n",
              "      <td>9999.0</td>\n",
              "    </tr>\n",
              "    <tr>\n",
              "      <th>Private room</th>\n",
              "      <td>6619.0</td>\n",
              "      <td>448.315758</td>\n",
              "      <td>4094.666233</td>\n",
              "      <td>33.0</td>\n",
              "      <td>100.0</td>\n",
              "      <td>160.0</td>\n",
              "      <td>290.0</td>\n",
              "      <td>134562.0</td>\n",
              "    </tr>\n",
              "    <tr>\n",
              "      <th>Shared room</th>\n",
              "      <td>612.0</td>\n",
              "      <td>1456.738562</td>\n",
              "      <td>25437.765123</td>\n",
              "      <td>34.0</td>\n",
              "      <td>60.0</td>\n",
              "      <td>100.0</td>\n",
              "      <td>200.0</td>\n",
              "      <td>625216.0</td>\n",
              "    </tr>\n",
              "  </tbody>\n",
              "</table>\n",
              "</div>"
            ],
            "text/plain": [
              "                   count         mean           std  ...    50%    75%       max\n",
              "room_type                                            ...                        \n",
              "Entire home/apt  19285.0   823.069277   3669.685038  ...  350.0  698.0  129233.0\n",
              "Hotel room          99.0   325.212121   1008.519821  ...  183.0  290.0    9999.0\n",
              "Private room      6619.0   448.315758   4094.666233  ...  160.0  290.0  134562.0\n",
              "Shared room        612.0  1456.738562  25437.765123  ...  100.0  200.0  625216.0\n",
              "\n",
              "[4 rows x 8 columns]"
            ]
          },
          "metadata": {
            "tags": []
          },
          "execution_count": 28
        }
      ]
    },
    {
      "cell_type": "markdown",
      "metadata": {
        "id": "izWIP9z9ZQVQ"
      },
      "source": [
        "**Is there a price difference in the different types of accommodation?**\n",
        "\n",
        "As we can see for Entire home/apt:\n",
        "- at least 50% of houses rent prices are less than 350,00\n",
        "- at least 75% of houses rent prices are less than 698,00 \n",
        "- the mean value of houses rent prices are 823,00! \n",
        "\n",
        "As we can see for Hotel room:\n",
        "- at least 50% of houses rent prices are less than 290,00\n",
        "- at least 75% of houses rent prices are less than 183,00 \n",
        "- the mean value of houses rent prices are 325,00! \n",
        "\n",
        "As we can see for Private room:\n",
        "- at least 50% of houses rent prices are less than 290,00\n",
        "- at least 75% of houses rent prices are less than 160,00 \n",
        "- the mean value of houses rent prices are 448,00! \n",
        "\n",
        "As we can see for Shared Room:\n",
        "- at least 50% of houses rent prices are less than 200,00\n",
        "- at least 75% of houses rent prices are less than 100,00 \n",
        "- the mean value of houses rent prices are 1456,00! (Outlier!) \n",
        "\n",
        "If we'll travel to the Rio de Janeiro City we can know better if the price is very high or not to the types of accomodation for rent!\n",
        "\n",
        "As we can see Private Room and Shared Room are the cheapest prices for rent, the most expensive is Entire home/apt! "
      ]
    },
    {
      "cell_type": "markdown",
      "metadata": {
        "id": "DXchH_Ah1avs"
      },
      "source": [
        "#### 2.2.3 [Multivariate Analysis] By type of accommodation, do superhost's have better ratings than non-superhost's?\n",
        "\n",
        "For this question we will explore the columns 'host_is_superhost', 'revire_scores_rating' and 'room_type'\n",
        "\n",
        "And we will be using a graphics package called seaborn! If you are more interested you can explore this link: https://seaborn.pydata.org/"
      ]
    },
    {
      "cell_type": "code",
      "metadata": {
        "colab": {
          "base_uri": "https://localhost:8080/",
          "height": 443
        },
        "id": "A99UyJUK7kkZ",
        "outputId": "40cb6e4e-6436-44e9-8c4f-41e6248af14a"
      },
      "source": [
        "# Instead of using only 2 variables, let's use three variables!\n",
        "# Price, Type of Accommodation and if the Host is Super or not!\n",
        "plt.figure(figsize=(10, 7))\n",
        "sns.boxplot(x=\"room_type\", y=\"review_scores_rating\", hue='host_is_superhost', \n",
        "            palette=[\"m\", \"g\"], data=listings_analysis);"
      ],
      "execution_count": 29,
      "outputs": [
        {
          "output_type": "display_data",
          "data": {
            "image/png": "[encoded data removed]",
            "text/plain": [
              "<Figure size 720x504 with 1 Axes>"
            ]
          },
          "metadata": {
            "tags": [],
            "needs_background": "light"
          }
        }
      ]
    },
    {
      "cell_type": "code",
      "metadata": {
        "colab": {
          "base_uri": "https://localhost:8080/",
          "height": 443
        },
        "id": "tNSL3OpF731p",
        "outputId": "02f99522-be84-4c85-a3bb-b1a5f8e6a4c7"
      },
      "source": [
        "# Removing Outliers\n",
        "plt.figure(figsize=(10, 7))\n",
        "sns.boxplot(x=\"room_type\", y=\"review_scores_rating\", \n",
        "            hue='host_is_superhost', palette=[\"m\", \"g\"], \n",
        "            data=listings_analysis, showfliers=False);"
      ],
      "execution_count": 30,
      "outputs": [
        {
          "output_type": "display_data",
          "data": {
            "image/png": "[encoded data removed]",
            "text/plain": [
              "<Figure size 720x504 with 1 Axes>"
            ]
          },
          "metadata": {
            "tags": [],
            "needs_background": "light"
          }
        }
      ]
    },
    {
      "cell_type": "markdown",
      "metadata": {
        "id": "9g8hJbQs-AFC"
      },
      "source": [
        "We can see that there is a tendency that superhosts usually have a higher rating than those that are not classified as superhost's!\n",
        "\n",
        "Although we have this graphically, let's see the description of this data!"
      ]
    },
    {
      "cell_type": "code",
      "metadata": {
        "colab": {
          "base_uri": "https://localhost:8080/",
          "height": 142
        },
        "id": "_S2zIhNfGYqh",
        "outputId": "1e961b80-9036-4118-ff56-592db0c2c68a"
      },
      "source": [
        "# Print estatística descritiva de review_scores_rating por host_is_superhost\n",
        "listings_analysis.groupby('host_is_superhost')['review_scores_rating'].describe()"
      ],
      "execution_count": 31,
      "outputs": [
        {
          "output_type": "execute_result",
          "data": {
            "text/html": [
              "<div>\n",
              "<style scoped>\n",
              "    .dataframe tbody tr th:only-of-type {\n",
              "        vertical-align: middle;\n",
              "    }\n",
              "\n",
              "    .dataframe tbody tr th {\n",
              "        vertical-align: top;\n",
              "    }\n",
              "\n",
              "    .dataframe thead th {\n",
              "        text-align: right;\n",
              "    }\n",
              "</style>\n",
              "<table border=\"1\" class=\"dataframe\">\n",
              "  <thead>\n",
              "    <tr style=\"text-align: right;\">\n",
              "      <th></th>\n",
              "      <th>count</th>\n",
              "      <th>mean</th>\n",
              "      <th>std</th>\n",
              "      <th>min</th>\n",
              "      <th>25%</th>\n",
              "      <th>50%</th>\n",
              "      <th>75%</th>\n",
              "      <th>max</th>\n",
              "    </tr>\n",
              "    <tr>\n",
              "      <th>host_is_superhost</th>\n",
              "      <th></th>\n",
              "      <th></th>\n",
              "      <th></th>\n",
              "      <th></th>\n",
              "      <th></th>\n",
              "      <th></th>\n",
              "      <th></th>\n",
              "      <th></th>\n",
              "    </tr>\n",
              "  </thead>\n",
              "  <tbody>\n",
              "    <tr>\n",
              "      <th>f</th>\n",
              "      <td>12081.0</td>\n",
              "      <td>93.663273</td>\n",
              "      <td>10.859641</td>\n",
              "      <td>20.0</td>\n",
              "      <td>92.0</td>\n",
              "      <td>97.0</td>\n",
              "      <td>100.0</td>\n",
              "      <td>100.0</td>\n",
              "    </tr>\n",
              "    <tr>\n",
              "      <th>t</th>\n",
              "      <td>4023.0</td>\n",
              "      <td>97.294308</td>\n",
              "      <td>3.995259</td>\n",
              "      <td>20.0</td>\n",
              "      <td>96.0</td>\n",
              "      <td>98.0</td>\n",
              "      <td>100.0</td>\n",
              "      <td>100.0</td>\n",
              "    </tr>\n",
              "  </tbody>\n",
              "</table>\n",
              "</div>"
            ],
            "text/plain": [
              "                     count       mean        std  ...   50%    75%    max\n",
              "host_is_superhost                                 ...                    \n",
              "f                  12081.0  93.663273  10.859641  ...  97.0  100.0  100.0\n",
              "t                   4023.0  97.294308   3.995259  ...  98.0  100.0  100.0\n",
              "\n",
              "[2 rows x 8 columns]"
            ]
          },
          "metadata": {
            "tags": []
          },
          "execution_count": 31
        }
      ]
    },
    {
      "cell_type": "code",
      "metadata": {
        "colab": {
          "base_uri": "https://localhost:8080/",
          "height": 328
        },
        "id": "Foq_J3xqG0SR",
        "outputId": "d97d883b-e4db-44f9-bb4e-087e6bd3657d"
      },
      "source": [
        "# Print estatística descritiva de review_scores_rating por room_type e host_is_superhost\n",
        "listings_analysis.groupby(['room_type', 'host_is_superhost'])['review_scores_rating'].describe()"
      ],
      "execution_count": 32,
      "outputs": [
        {
          "output_type": "execute_result",
          "data": {
            "text/html": [
              "<div>\n",
              "<style scoped>\n",
              "    .dataframe tbody tr th:only-of-type {\n",
              "        vertical-align: middle;\n",
              "    }\n",
              "\n",
              "    .dataframe tbody tr th {\n",
              "        vertical-align: top;\n",
              "    }\n",
              "\n",
              "    .dataframe thead th {\n",
              "        text-align: right;\n",
              "    }\n",
              "</style>\n",
              "<table border=\"1\" class=\"dataframe\">\n",
              "  <thead>\n",
              "    <tr style=\"text-align: right;\">\n",
              "      <th></th>\n",
              "      <th></th>\n",
              "      <th>count</th>\n",
              "      <th>mean</th>\n",
              "      <th>std</th>\n",
              "      <th>min</th>\n",
              "      <th>25%</th>\n",
              "      <th>50%</th>\n",
              "      <th>75%</th>\n",
              "      <th>max</th>\n",
              "    </tr>\n",
              "    <tr>\n",
              "      <th>room_type</th>\n",
              "      <th>host_is_superhost</th>\n",
              "      <th></th>\n",
              "      <th></th>\n",
              "      <th></th>\n",
              "      <th></th>\n",
              "      <th></th>\n",
              "      <th></th>\n",
              "      <th></th>\n",
              "      <th></th>\n",
              "    </tr>\n",
              "  </thead>\n",
              "  <tbody>\n",
              "    <tr>\n",
              "      <th rowspan=\"2\" valign=\"top\">Entire home/apt</th>\n",
              "      <th>f</th>\n",
              "      <td>8921.0</td>\n",
              "      <td>93.504876</td>\n",
              "      <td>10.473135</td>\n",
              "      <td>20.0</td>\n",
              "      <td>91.00</td>\n",
              "      <td>97.0</td>\n",
              "      <td>100.0</td>\n",
              "      <td>100.0</td>\n",
              "    </tr>\n",
              "    <tr>\n",
              "      <th>t</th>\n",
              "      <td>3165.0</td>\n",
              "      <td>97.180095</td>\n",
              "      <td>4.128749</td>\n",
              "      <td>20.0</td>\n",
              "      <td>96.00</td>\n",
              "      <td>98.0</td>\n",
              "      <td>100.0</td>\n",
              "      <td>100.0</td>\n",
              "    </tr>\n",
              "    <tr>\n",
              "      <th rowspan=\"2\" valign=\"top\">Hotel room</th>\n",
              "      <th>f</th>\n",
              "      <td>49.0</td>\n",
              "      <td>92.714286</td>\n",
              "      <td>6.334430</td>\n",
              "      <td>70.0</td>\n",
              "      <td>90.00</td>\n",
              "      <td>94.0</td>\n",
              "      <td>97.0</td>\n",
              "      <td>100.0</td>\n",
              "    </tr>\n",
              "    <tr>\n",
              "      <th>t</th>\n",
              "      <td>24.0</td>\n",
              "      <td>97.250000</td>\n",
              "      <td>1.916745</td>\n",
              "      <td>93.0</td>\n",
              "      <td>96.75</td>\n",
              "      <td>97.0</td>\n",
              "      <td>98.0</td>\n",
              "      <td>100.0</td>\n",
              "    </tr>\n",
              "    <tr>\n",
              "      <th rowspan=\"2\" valign=\"top\">Private room</th>\n",
              "      <th>f</th>\n",
              "      <td>2890.0</td>\n",
              "      <td>94.271280</td>\n",
              "      <td>11.705296</td>\n",
              "      <td>20.0</td>\n",
              "      <td>93.00</td>\n",
              "      <td>100.0</td>\n",
              "      <td>100.0</td>\n",
              "      <td>100.0</td>\n",
              "    </tr>\n",
              "    <tr>\n",
              "      <th>t</th>\n",
              "      <td>795.0</td>\n",
              "      <td>97.752201</td>\n",
              "      <td>3.170270</td>\n",
              "      <td>70.0</td>\n",
              "      <td>97.00</td>\n",
              "      <td>99.0</td>\n",
              "      <td>100.0</td>\n",
              "      <td>100.0</td>\n",
              "    </tr>\n",
              "    <tr>\n",
              "      <th rowspan=\"2\" valign=\"top\">Shared room</th>\n",
              "      <th>f</th>\n",
              "      <td>221.0</td>\n",
              "      <td>92.316742</td>\n",
              "      <td>14.572051</td>\n",
              "      <td>20.0</td>\n",
              "      <td>90.00</td>\n",
              "      <td>100.0</td>\n",
              "      <td>100.0</td>\n",
              "      <td>100.0</td>\n",
              "    </tr>\n",
              "    <tr>\n",
              "      <th>t</th>\n",
              "      <td>39.0</td>\n",
              "      <td>97.256410</td>\n",
              "      <td>7.239213</td>\n",
              "      <td>60.0</td>\n",
              "      <td>98.00</td>\n",
              "      <td>100.0</td>\n",
              "      <td>100.0</td>\n",
              "      <td>100.0</td>\n",
              "    </tr>\n",
              "  </tbody>\n",
              "</table>\n",
              "</div>"
            ],
            "text/plain": [
              "                                    count       mean  ...    75%    max\n",
              "room_type       host_is_superhost                     ...              \n",
              "Entire home/apt f                  8921.0  93.504876  ...  100.0  100.0\n",
              "                t                  3165.0  97.180095  ...  100.0  100.0\n",
              "Hotel room      f                    49.0  92.714286  ...   97.0  100.0\n",
              "                t                    24.0  97.250000  ...   98.0  100.0\n",
              "Private room    f                  2890.0  94.271280  ...  100.0  100.0\n",
              "                t                   795.0  97.752201  ...  100.0  100.0\n",
              "Shared room     f                   221.0  92.316742  ...  100.0  100.0\n",
              "                t                    39.0  97.256410  ...  100.0  100.0\n",
              "\n",
              "[8 rows x 8 columns]"
            ]
          },
          "metadata": {
            "tags": []
          },
          "execution_count": 32
        }
      ]
    },
    {
      "cell_type": "markdown",
      "metadata": {
        "id": "AkReVRPLaxDV"
      },
      "source": [
        "## Part II: Analyzing a time series\n",
        "\n",
        "We will work with the dataset **calendar** and we will try to understand how future prices will vary according to the data collected by the AirBNB website!"
      ]
    },
    {
      "cell_type": "markdown",
      "metadata": {
        "id": "6DyeGB6rtnR_"
      },
      "source": [
        "### 3.1 Understanding the database\n",
        "\n",
        "Let's take a quick look at how the data is doing?"
      ]
    },
    {
      "cell_type": "code",
      "metadata": {
        "colab": {
          "base_uri": "https://localhost:8080/"
        },
        "id": "NVimgW0mE5zt",
        "outputId": "597c2856-7145-4ce9-b42e-59de7640fe0f"
      },
      "source": [
        "calendar.columns"
      ],
      "execution_count": 33,
      "outputs": [
        {
          "output_type": "execute_result",
          "data": {
            "text/plain": [
              "Index(['listing_id', 'date', 'available', 'price', 'adjusted_price',\n",
              "       'minimum_nights', 'maximum_nights'],\n",
              "      dtype='object')"
            ]
          },
          "metadata": {
            "tags": []
          },
          "execution_count": 33
        }
      ]
    },
    {
      "cell_type": "code",
      "metadata": {
        "colab": {
          "base_uri": "https://localhost:8080/",
          "height": 204
        },
        "id": "bvEqOVeEE-Pc",
        "outputId": "eee4265d-fde9-444e-9277-32f91e14765f"
      },
      "source": [
        "calendar.head(5)"
      ],
      "execution_count": 34,
      "outputs": [
        {
          "output_type": "execute_result",
          "data": {
            "text/html": [
              "<div>\n",
              "<style scoped>\n",
              "    .dataframe tbody tr th:only-of-type {\n",
              "        vertical-align: middle;\n",
              "    }\n",
              "\n",
              "    .dataframe tbody tr th {\n",
              "        vertical-align: top;\n",
              "    }\n",
              "\n",
              "    .dataframe thead th {\n",
              "        text-align: right;\n",
              "    }\n",
              "</style>\n",
              "<table border=\"1\" class=\"dataframe\">\n",
              "  <thead>\n",
              "    <tr style=\"text-align: right;\">\n",
              "      <th></th>\n",
              "      <th>listing_id</th>\n",
              "      <th>date</th>\n",
              "      <th>available</th>\n",
              "      <th>price</th>\n",
              "      <th>adjusted_price</th>\n",
              "      <th>minimum_nights</th>\n",
              "      <th>maximum_nights</th>\n",
              "    </tr>\n",
              "  </thead>\n",
              "  <tbody>\n",
              "    <tr>\n",
              "      <th>0</th>\n",
              "      <td>45766287</td>\n",
              "      <td>2021-02-23</td>\n",
              "      <td>f</td>\n",
              "      <td>$150.00</td>\n",
              "      <td>$150.00</td>\n",
              "      <td>2.0</td>\n",
              "      <td>1125.0</td>\n",
              "    </tr>\n",
              "    <tr>\n",
              "      <th>1</th>\n",
              "      <td>45764740</td>\n",
              "      <td>2021-02-24</td>\n",
              "      <td>f</td>\n",
              "      <td>$100.00</td>\n",
              "      <td>$100.00</td>\n",
              "      <td>1.0</td>\n",
              "      <td>4.0</td>\n",
              "    </tr>\n",
              "    <tr>\n",
              "      <th>2</th>\n",
              "      <td>45764740</td>\n",
              "      <td>2021-02-25</td>\n",
              "      <td>t</td>\n",
              "      <td>$100.00</td>\n",
              "      <td>$100.00</td>\n",
              "      <td>1.0</td>\n",
              "      <td>4.0</td>\n",
              "    </tr>\n",
              "    <tr>\n",
              "      <th>3</th>\n",
              "      <td>45764740</td>\n",
              "      <td>2021-02-26</td>\n",
              "      <td>t</td>\n",
              "      <td>$100.00</td>\n",
              "      <td>$100.00</td>\n",
              "      <td>1.0</td>\n",
              "      <td>4.0</td>\n",
              "    </tr>\n",
              "    <tr>\n",
              "      <th>4</th>\n",
              "      <td>45764740</td>\n",
              "      <td>2021-02-27</td>\n",
              "      <td>t</td>\n",
              "      <td>$100.00</td>\n",
              "      <td>$100.00</td>\n",
              "      <td>1.0</td>\n",
              "      <td>4.0</td>\n",
              "    </tr>\n",
              "  </tbody>\n",
              "</table>\n",
              "</div>"
            ],
            "text/plain": [
              "   listing_id        date  ... minimum_nights maximum_nights\n",
              "0    45766287  2021-02-23  ...            2.0         1125.0\n",
              "1    45764740  2021-02-24  ...            1.0            4.0\n",
              "2    45764740  2021-02-25  ...            1.0            4.0\n",
              "3    45764740  2021-02-26  ...            1.0            4.0\n",
              "4    45764740  2021-02-27  ...            1.0            4.0\n",
              "\n",
              "[5 rows x 7 columns]"
            ]
          },
          "metadata": {
            "tags": []
          },
          "execution_count": 34
        }
      ]
    },
    {
      "cell_type": "code",
      "metadata": {
        "colab": {
          "base_uri": "https://localhost:8080/"
        },
        "id": "_CJmOZNqvVJe",
        "outputId": "413c8c31-9563-43a9-f8b2-7d7ed4405f88"
      },
      "source": [
        "# How many null values?\n",
        "print(f\"We have a percentage of null values ​​in the Price variable of: {calendar['price'].isna().mean()*100}%\")\n",
        "print(f\"We have a total of null values ​​in the Price variable of: {calendar['price'].isna().sum()}\")\n",
        "print(f\"We have a total of values ​​in the Price variable of: {calendar['price'].count()}\")"
      ],
      "execution_count": 35,
      "outputs": [
        {
          "output_type": "stream",
          "text": [
            "We have a percentage of null values ​​in the Price variable of: 0.001827544628743085%\n",
            "We have a total of null values ​​in the Price variable of: 177\n",
            "We have a total of values ​​in the Price variable of: 9684949\n"
          ],
          "name": "stdout"
        }
      ]
    },
    {
      "cell_type": "code",
      "metadata": {
        "id": "ff5zd7kAvXZY"
      },
      "source": [
        "#As the total of null values ​​is quite insignificant compared to the total of values ​​we have in the Price variable, we can disregard these values ​​and continue with our analysis.\n",
        "calendar = calendar[calendar['price'].notna()]"
      ],
      "execution_count": 36,
      "outputs": []
    },
    {
      "cell_type": "code",
      "metadata": {
        "colab": {
          "base_uri": "https://localhost:8080/",
          "height": 142
        },
        "id": "zRgReNeXvdrI",
        "outputId": "e0a21832-2208-4430-e488-ca4df0e71f3f"
      },
      "source": [
        "#transforming price to numeric\n",
        "calendar.loc[:, 'price_numeric'] = calendar['price'].apply(lambda x: re.sub(r'\\$', '', str(x)))\n",
        "calendar.loc[:, 'price_numeric'] = calendar['price_numeric'].apply(lambda x: re.sub(r',', '', str(x)))\n",
        "calendar.loc[:, 'price_numeric'] = pd.to_numeric(calendar['price_numeric'])\n",
        "calendar.head(3)"
      ],
      "execution_count": 37,
      "outputs": [
        {
          "output_type": "execute_result",
          "data": {
            "text/html": [
              "<div>\n",
              "<style scoped>\n",
              "    .dataframe tbody tr th:only-of-type {\n",
              "        vertical-align: middle;\n",
              "    }\n",
              "\n",
              "    .dataframe tbody tr th {\n",
              "        vertical-align: top;\n",
              "    }\n",
              "\n",
              "    .dataframe thead th {\n",
              "        text-align: right;\n",
              "    }\n",
              "</style>\n",
              "<table border=\"1\" class=\"dataframe\">\n",
              "  <thead>\n",
              "    <tr style=\"text-align: right;\">\n",
              "      <th></th>\n",
              "      <th>listing_id</th>\n",
              "      <th>date</th>\n",
              "      <th>available</th>\n",
              "      <th>price</th>\n",
              "      <th>adjusted_price</th>\n",
              "      <th>minimum_nights</th>\n",
              "      <th>maximum_nights</th>\n",
              "      <th>price_numeric</th>\n",
              "    </tr>\n",
              "  </thead>\n",
              "  <tbody>\n",
              "    <tr>\n",
              "      <th>0</th>\n",
              "      <td>45766287</td>\n",
              "      <td>2021-02-23</td>\n",
              "      <td>f</td>\n",
              "      <td>$150.00</td>\n",
              "      <td>$150.00</td>\n",
              "      <td>2.0</td>\n",
              "      <td>1125.0</td>\n",
              "      <td>150.0</td>\n",
              "    </tr>\n",
              "    <tr>\n",
              "      <th>1</th>\n",
              "      <td>45764740</td>\n",
              "      <td>2021-02-24</td>\n",
              "      <td>f</td>\n",
              "      <td>$100.00</td>\n",
              "      <td>$100.00</td>\n",
              "      <td>1.0</td>\n",
              "      <td>4.0</td>\n",
              "      <td>100.0</td>\n",
              "    </tr>\n",
              "    <tr>\n",
              "      <th>2</th>\n",
              "      <td>45764740</td>\n",
              "      <td>2021-02-25</td>\n",
              "      <td>t</td>\n",
              "      <td>$100.00</td>\n",
              "      <td>$100.00</td>\n",
              "      <td>1.0</td>\n",
              "      <td>4.0</td>\n",
              "      <td>100.0</td>\n",
              "    </tr>\n",
              "  </tbody>\n",
              "</table>\n",
              "</div>"
            ],
            "text/plain": [
              "   listing_id        date  ... maximum_nights price_numeric\n",
              "0    45766287  2021-02-23  ...         1125.0         150.0\n",
              "1    45764740  2021-02-24  ...            4.0         100.0\n",
              "2    45764740  2021-02-25  ...            4.0         100.0\n",
              "\n",
              "[3 rows x 8 columns]"
            ]
          },
          "metadata": {
            "tags": []
          },
          "execution_count": 37
        }
      ]
    },
    {
      "cell_type": "markdown",
      "metadata": {
        "id": "sj8lOVjgvxdX"
      },
      "source": [
        "What is my date range?"
      ]
    },
    {
      "cell_type": "code",
      "metadata": {
        "colab": {
          "base_uri": "https://localhost:8080/"
        },
        "id": "GMqVGqlIvr-j",
        "outputId": "b6ca2a54-0668-4776-ac08-b4835de759b8"
      },
      "source": [
        "#Data range\n",
        "calendar['date'].min(), calendar['date'].max()"
      ],
      "execution_count": 38,
      "outputs": [
        {
          "output_type": "execute_result",
          "data": {
            "text/plain": [
              "('2021-02-22', '2022-02-24')"
            ]
          },
          "metadata": {
            "tags": []
          },
          "execution_count": 38
        }
      ]
    },
    {
      "cell_type": "code",
      "metadata": {
        "colab": {
          "base_uri": "https://localhost:8080/"
        },
        "id": "zETlysoOv_f0",
        "outputId": "72e2dc9e-39d9-493c-d231-1d72445b2501"
      },
      "source": [
        "#How many days?\n",
        "len(calendar['date'].drop_duplicates())"
      ],
      "execution_count": 39,
      "outputs": [
        {
          "output_type": "execute_result",
          "data": {
            "text/plain": [
              "368"
            ]
          },
          "metadata": {
            "tags": []
          },
          "execution_count": 39
        }
      ]
    },
    {
      "cell_type": "markdown",
      "metadata": {
        "id": "pBjLraNfwJnE"
      },
      "source": [
        "Within our dataset we have 368 unique days with a range from 2021-02-22 to 2022-02-24"
      ]
    },
    {
      "cell_type": "markdown",
      "metadata": {
        "id": "T_V7XmWJwcwy"
      },
      "source": [
        "### 3.2 Creating our business questions!\n",
        "\n",
        "For this part we will divide into two main questions:\n",
        "\n",
        "1. How is the behavior of rental prices in the city of Rio de Janeiro?\n",
        "2. How is the price behavior separated by types of accommodation?"
      ]
    },
    {
      "cell_type": "markdown",
      "metadata": {
        "id": "0TVTNr3pxYhs"
      },
      "source": [
        "#### 3.2.1 How is the behavior of rental prices in the city of Rio de Janeiro?\n",
        "\n",
        "Let's plot a time series and identify the behaviors!"
      ]
    },
    {
      "cell_type": "code",
      "metadata": {
        "colab": {
          "base_uri": "https://localhost:8080/",
          "height": 359
        },
        "id": "5UHP-gmVwHf-",
        "outputId": "494095fa-c38c-4e61-ed9f-f482b98aea9f"
      },
      "source": [
        "calendar[calendar['date']=='2021-02-23'].head(10)"
      ],
      "execution_count": 40,
      "outputs": [
        {
          "output_type": "execute_result",
          "data": {
            "text/html": [
              "<div>\n",
              "<style scoped>\n",
              "    .dataframe tbody tr th:only-of-type {\n",
              "        vertical-align: middle;\n",
              "    }\n",
              "\n",
              "    .dataframe tbody tr th {\n",
              "        vertical-align: top;\n",
              "    }\n",
              "\n",
              "    .dataframe thead th {\n",
              "        text-align: right;\n",
              "    }\n",
              "</style>\n",
              "<table border=\"1\" class=\"dataframe\">\n",
              "  <thead>\n",
              "    <tr style=\"text-align: right;\">\n",
              "      <th></th>\n",
              "      <th>listing_id</th>\n",
              "      <th>date</th>\n",
              "      <th>available</th>\n",
              "      <th>price</th>\n",
              "      <th>adjusted_price</th>\n",
              "      <th>minimum_nights</th>\n",
              "      <th>maximum_nights</th>\n",
              "      <th>price_numeric</th>\n",
              "    </tr>\n",
              "  </thead>\n",
              "  <tbody>\n",
              "    <tr>\n",
              "      <th>0</th>\n",
              "      <td>45766287</td>\n",
              "      <td>2021-02-23</td>\n",
              "      <td>f</td>\n",
              "      <td>$150.00</td>\n",
              "      <td>$150.00</td>\n",
              "      <td>2.0</td>\n",
              "      <td>1125.0</td>\n",
              "      <td>150.0</td>\n",
              "    </tr>\n",
              "    <tr>\n",
              "      <th>366</th>\n",
              "      <td>45765451</td>\n",
              "      <td>2021-02-23</td>\n",
              "      <td>f</td>\n",
              "      <td>$200.00</td>\n",
              "      <td>$200.00</td>\n",
              "      <td>1.0</td>\n",
              "      <td>1125.0</td>\n",
              "      <td>200.0</td>\n",
              "    </tr>\n",
              "    <tr>\n",
              "      <th>1702</th>\n",
              "      <td>46820926</td>\n",
              "      <td>2021-02-23</td>\n",
              "      <td>f</td>\n",
              "      <td>$3,000.00</td>\n",
              "      <td>$3,000.00</td>\n",
              "      <td>1.0</td>\n",
              "      <td>28.0</td>\n",
              "      <td>3000.0</td>\n",
              "    </tr>\n",
              "    <tr>\n",
              "      <th>2551</th>\n",
              "      <td>47324862</td>\n",
              "      <td>2021-02-23</td>\n",
              "      <td>f</td>\n",
              "      <td>$200.00</td>\n",
              "      <td>$200.00</td>\n",
              "      <td>2.0</td>\n",
              "      <td>1125.0</td>\n",
              "      <td>200.0</td>\n",
              "    </tr>\n",
              "    <tr>\n",
              "      <th>3008</th>\n",
              "      <td>47979810</td>\n",
              "      <td>2021-02-23</td>\n",
              "      <td>f</td>\n",
              "      <td>$220.00</td>\n",
              "      <td>$220.00</td>\n",
              "      <td>4.0</td>\n",
              "      <td>1125.0</td>\n",
              "      <td>220.0</td>\n",
              "    </tr>\n",
              "    <tr>\n",
              "      <th>3665</th>\n",
              "      <td>89454</td>\n",
              "      <td>2021-02-23</td>\n",
              "      <td>f</td>\n",
              "      <td>$450.00</td>\n",
              "      <td>$450.00</td>\n",
              "      <td>2.0</td>\n",
              "      <td>1125.0</td>\n",
              "      <td>450.0</td>\n",
              "    </tr>\n",
              "    <tr>\n",
              "      <th>5110</th>\n",
              "      <td>2716527</td>\n",
              "      <td>2021-02-23</td>\n",
              "      <td>f</td>\n",
              "      <td>$400.00</td>\n",
              "      <td>$400.00</td>\n",
              "      <td>2.0</td>\n",
              "      <td>1125.0</td>\n",
              "      <td>400.0</td>\n",
              "    </tr>\n",
              "    <tr>\n",
              "      <th>5111</th>\n",
              "      <td>2489727</td>\n",
              "      <td>2021-02-23</td>\n",
              "      <td>t</td>\n",
              "      <td>$100.00</td>\n",
              "      <td>$100.00</td>\n",
              "      <td>1.0</td>\n",
              "      <td>1125.0</td>\n",
              "      <td>100.0</td>\n",
              "    </tr>\n",
              "    <tr>\n",
              "      <th>6246</th>\n",
              "      <td>2771514</td>\n",
              "      <td>2021-02-23</td>\n",
              "      <td>t</td>\n",
              "      <td>$650.00</td>\n",
              "      <td>$650.00</td>\n",
              "      <td>15.0</td>\n",
              "      <td>30.0</td>\n",
              "      <td>650.0</td>\n",
              "    </tr>\n",
              "    <tr>\n",
              "      <th>6934</th>\n",
              "      <td>2771621</td>\n",
              "      <td>2021-02-23</td>\n",
              "      <td>f</td>\n",
              "      <td>$1,000.00</td>\n",
              "      <td>$1,000.00</td>\n",
              "      <td>2.0</td>\n",
              "      <td>1125.0</td>\n",
              "      <td>1000.0</td>\n",
              "    </tr>\n",
              "  </tbody>\n",
              "</table>\n",
              "</div>"
            ],
            "text/plain": [
              "      listing_id        date  ... maximum_nights price_numeric\n",
              "0       45766287  2021-02-23  ...         1125.0         150.0\n",
              "366     45765451  2021-02-23  ...         1125.0         200.0\n",
              "1702    46820926  2021-02-23  ...           28.0        3000.0\n",
              "2551    47324862  2021-02-23  ...         1125.0         200.0\n",
              "3008    47979810  2021-02-23  ...         1125.0         220.0\n",
              "3665       89454  2021-02-23  ...         1125.0         450.0\n",
              "5110     2716527  2021-02-23  ...         1125.0         400.0\n",
              "5111     2489727  2021-02-23  ...         1125.0         100.0\n",
              "6246     2771514  2021-02-23  ...           30.0         650.0\n",
              "6934     2771621  2021-02-23  ...         1125.0        1000.0\n",
              "\n",
              "[10 rows x 8 columns]"
            ]
          },
          "metadata": {
            "tags": []
          },
          "execution_count": 40
        }
      ]
    },
    {
      "cell_type": "code",
      "metadata": {
        "colab": {
          "base_uri": "https://localhost:8080/",
          "height": 235
        },
        "id": "KweWRt8oyEk3",
        "outputId": "ffc0be76-c7fa-4fb2-a578-db29e53347c9"
      },
      "source": [
        "calendar.groupby(by=['date']).mean().head()"
      ],
      "execution_count": 41,
      "outputs": [
        {
          "output_type": "execute_result",
          "data": {
            "text/html": [
              "<div>\n",
              "<style scoped>\n",
              "    .dataframe tbody tr th:only-of-type {\n",
              "        vertical-align: middle;\n",
              "    }\n",
              "\n",
              "    .dataframe tbody tr th {\n",
              "        vertical-align: top;\n",
              "    }\n",
              "\n",
              "    .dataframe thead th {\n",
              "        text-align: right;\n",
              "    }\n",
              "</style>\n",
              "<table border=\"1\" class=\"dataframe\">\n",
              "  <thead>\n",
              "    <tr style=\"text-align: right;\">\n",
              "      <th></th>\n",
              "      <th>listing_id</th>\n",
              "      <th>minimum_nights</th>\n",
              "      <th>maximum_nights</th>\n",
              "      <th>price_numeric</th>\n",
              "    </tr>\n",
              "    <tr>\n",
              "      <th>date</th>\n",
              "      <th></th>\n",
              "      <th></th>\n",
              "      <th></th>\n",
              "      <th></th>\n",
              "    </tr>\n",
              "  </thead>\n",
              "  <tbody>\n",
              "    <tr>\n",
              "      <th>2021-02-22</th>\n",
              "      <td>4.468157e+07</td>\n",
              "      <td>7.045977</td>\n",
              "      <td>804.870690</td>\n",
              "      <td>623.604585</td>\n",
              "    </tr>\n",
              "    <tr>\n",
              "      <th>2021-02-23</th>\n",
              "      <td>2.529429e+07</td>\n",
              "      <td>4.948957</td>\n",
              "      <td>80986.771188</td>\n",
              "      <td>770.315595</td>\n",
              "    </tr>\n",
              "    <tr>\n",
              "      <th>2021-02-24</th>\n",
              "      <td>2.524338e+07</td>\n",
              "      <td>4.814588</td>\n",
              "      <td>39724.525633</td>\n",
              "      <td>722.555313</td>\n",
              "    </tr>\n",
              "    <tr>\n",
              "      <th>2021-02-25</th>\n",
              "      <td>2.526027e+07</td>\n",
              "      <td>4.814202</td>\n",
              "      <td>38450.719360</td>\n",
              "      <td>719.061890</td>\n",
              "    </tr>\n",
              "    <tr>\n",
              "      <th>2021-02-26</th>\n",
              "      <td>2.526027e+07</td>\n",
              "      <td>4.792858</td>\n",
              "      <td>38450.774681</td>\n",
              "      <td>808.895632</td>\n",
              "    </tr>\n",
              "  </tbody>\n",
              "</table>\n",
              "</div>"
            ],
            "text/plain": [
              "              listing_id  minimum_nights  maximum_nights  price_numeric\n",
              "date                                                                   \n",
              "2021-02-22  4.468157e+07        7.045977      804.870690     623.604585\n",
              "2021-02-23  2.529429e+07        4.948957    80986.771188     770.315595\n",
              "2021-02-24  2.524338e+07        4.814588    39724.525633     722.555313\n",
              "2021-02-25  2.526027e+07        4.814202    38450.719360     719.061890\n",
              "2021-02-26  2.526027e+07        4.792858    38450.774681     808.895632"
            ]
          },
          "metadata": {
            "tags": []
          },
          "execution_count": 41
        }
      ]
    },
    {
      "cell_type": "code",
      "metadata": {
        "colab": {
          "base_uri": "https://localhost:8080/",
          "height": 235
        },
        "id": "HxlcAVsHyefW",
        "outputId": "f28f5b4e-3d2d-4d97-a07c-57e7ca8bb69a"
      },
      "source": [
        "calendar.groupby(by=['date']).agg({'price_numeric': 'mean', 'maximum_nights': 'median'}).head()"
      ],
      "execution_count": 42,
      "outputs": [
        {
          "output_type": "execute_result",
          "data": {
            "text/html": [
              "<div>\n",
              "<style scoped>\n",
              "    .dataframe tbody tr th:only-of-type {\n",
              "        vertical-align: middle;\n",
              "    }\n",
              "\n",
              "    .dataframe tbody tr th {\n",
              "        vertical-align: top;\n",
              "    }\n",
              "\n",
              "    .dataframe thead th {\n",
              "        text-align: right;\n",
              "    }\n",
              "</style>\n",
              "<table border=\"1\" class=\"dataframe\">\n",
              "  <thead>\n",
              "    <tr style=\"text-align: right;\">\n",
              "      <th></th>\n",
              "      <th>price_numeric</th>\n",
              "      <th>maximum_nights</th>\n",
              "    </tr>\n",
              "    <tr>\n",
              "      <th>date</th>\n",
              "      <th></th>\n",
              "      <th></th>\n",
              "    </tr>\n",
              "  </thead>\n",
              "  <tbody>\n",
              "    <tr>\n",
              "      <th>2021-02-22</th>\n",
              "      <td>623.604585</td>\n",
              "      <td>1125.0</td>\n",
              "    </tr>\n",
              "    <tr>\n",
              "      <th>2021-02-23</th>\n",
              "      <td>770.315595</td>\n",
              "      <td>1125.0</td>\n",
              "    </tr>\n",
              "    <tr>\n",
              "      <th>2021-02-24</th>\n",
              "      <td>722.555313</td>\n",
              "      <td>1125.0</td>\n",
              "    </tr>\n",
              "    <tr>\n",
              "      <th>2021-02-25</th>\n",
              "      <td>719.061890</td>\n",
              "      <td>1125.0</td>\n",
              "    </tr>\n",
              "    <tr>\n",
              "      <th>2021-02-26</th>\n",
              "      <td>808.895632</td>\n",
              "      <td>1125.0</td>\n",
              "    </tr>\n",
              "  </tbody>\n",
              "</table>\n",
              "</div>"
            ],
            "text/plain": [
              "            price_numeric  maximum_nights\n",
              "date                                     \n",
              "2021-02-22     623.604585          1125.0\n",
              "2021-02-23     770.315595          1125.0\n",
              "2021-02-24     722.555313          1125.0\n",
              "2021-02-25     719.061890          1125.0\n",
              "2021-02-26     808.895632          1125.0"
            ]
          },
          "metadata": {
            "tags": []
          },
          "execution_count": 42
        }
      ]
    },
    {
      "cell_type": "code",
      "metadata": {
        "id": "Ao3ZU6yfyumg"
      },
      "source": [
        "# Saving the aggregated dataframe\n",
        "calendar_agg = calendar.groupby(by=['date']).agg({'price_numeric': 'mean'}).reset_index()\n",
        "calendar_agg['date'] = pd.to_datetime(calendar_agg['date'])"
      ],
      "execution_count": 43,
      "outputs": []
    },
    {
      "cell_type": "code",
      "metadata": {
        "colab": {
          "base_uri": "https://localhost:8080/",
          "height": 204
        },
        "id": "_Mfy5wI60rGh",
        "outputId": "011887f2-34a2-498e-ddac-03f6f9684249"
      },
      "source": [
        "calendar_agg.head()"
      ],
      "execution_count": 44,
      "outputs": [
        {
          "output_type": "execute_result",
          "data": {
            "text/html": [
              "<div>\n",
              "<style scoped>\n",
              "    .dataframe tbody tr th:only-of-type {\n",
              "        vertical-align: middle;\n",
              "    }\n",
              "\n",
              "    .dataframe tbody tr th {\n",
              "        vertical-align: top;\n",
              "    }\n",
              "\n",
              "    .dataframe thead th {\n",
              "        text-align: right;\n",
              "    }\n",
              "</style>\n",
              "<table border=\"1\" class=\"dataframe\">\n",
              "  <thead>\n",
              "    <tr style=\"text-align: right;\">\n",
              "      <th></th>\n",
              "      <th>date</th>\n",
              "      <th>price_numeric</th>\n",
              "    </tr>\n",
              "  </thead>\n",
              "  <tbody>\n",
              "    <tr>\n",
              "      <th>0</th>\n",
              "      <td>2021-02-22</td>\n",
              "      <td>623.604585</td>\n",
              "    </tr>\n",
              "    <tr>\n",
              "      <th>1</th>\n",
              "      <td>2021-02-23</td>\n",
              "      <td>770.315595</td>\n",
              "    </tr>\n",
              "    <tr>\n",
              "      <th>2</th>\n",
              "      <td>2021-02-24</td>\n",
              "      <td>722.555313</td>\n",
              "    </tr>\n",
              "    <tr>\n",
              "      <th>3</th>\n",
              "      <td>2021-02-25</td>\n",
              "      <td>719.061890</td>\n",
              "    </tr>\n",
              "    <tr>\n",
              "      <th>4</th>\n",
              "      <td>2021-02-26</td>\n",
              "      <td>808.895632</td>\n",
              "    </tr>\n",
              "  </tbody>\n",
              "</table>\n",
              "</div>"
            ],
            "text/plain": [
              "        date  price_numeric\n",
              "0 2021-02-22     623.604585\n",
              "1 2021-02-23     770.315595\n",
              "2 2021-02-24     722.555313\n",
              "3 2021-02-25     719.061890\n",
              "4 2021-02-26     808.895632"
            ]
          },
          "metadata": {
            "tags": []
          },
          "execution_count": 44
        }
      ]
    },
    {
      "cell_type": "code",
      "metadata": {
        "colab": {
          "base_uri": "https://localhost:8080/"
        },
        "id": "ayqpMM2w15m9",
        "outputId": "967e6aee-af84-46e1-8a01-44da1581a384"
      },
      "source": [
        "calendar_agg.dtypes"
      ],
      "execution_count": 45,
      "outputs": [
        {
          "output_type": "execute_result",
          "data": {
            "text/plain": [
              "date             datetime64[ns]\n",
              "price_numeric           float64\n",
              "dtype: object"
            ]
          },
          "metadata": {
            "tags": []
          },
          "execution_count": 45
        }
      ]
    },
    {
      "cell_type": "code",
      "metadata": {
        "colab": {
          "base_uri": "https://localhost:8080/",
          "height": 606
        },
        "id": "Sx8C4iWU0kpJ",
        "outputId": "4bf53c68-a080-4203-dc9c-38b8b7841662"
      },
      "source": [
        "from matplotlib import dates\n",
        "fig, ax = plt.subplots(figsize=(15, 10))\n",
        "sns.lineplot(x='date', y='price_numeric', data=calendar_agg, ax=ax, color='gray', linewidth=1)\n",
        "ax.xaxis.set_major_formatter(dates.DateFormatter(\"%d-%b\"))"
      ],
      "execution_count": 46,
      "outputs": [
        {
          "output_type": "display_data",
          "data": {
            "image/png": "[encoded data removed]",
            "text/plain": [
              "<Figure size 1080x720 with 1 Axes>"
            ]
          },
          "metadata": {
            "tags": [],
            "needs_background": "light"
          }
        }
      ]
    },
    {
      "cell_type": "markdown",
      "metadata": {
        "id": "JsGDhE5s3mIQ"
      },
      "source": [
        "What can we plot for these price spikes to be normalized?\n",
        "\n",
        "A moving average! :)"
      ]
    },
    {
      "cell_type": "code",
      "metadata": {
        "colab": {
          "base_uri": "https://localhost:8080/",
          "height": 204
        },
        "id": "wQ_FdMJ-3Ykc",
        "outputId": "fce7b917-e1af-4b9f-beb4-a900fdb6c4d7"
      },
      "source": [
        "calendar_agg['rolling_7_days'] = calendar_agg.price_numeric.rolling(7, min_periods=1).mean()\n",
        "calendar_agg.head()"
      ],
      "execution_count": 47,
      "outputs": [
        {
          "output_type": "execute_result",
          "data": {
            "text/html": [
              "<div>\n",
              "<style scoped>\n",
              "    .dataframe tbody tr th:only-of-type {\n",
              "        vertical-align: middle;\n",
              "    }\n",
              "\n",
              "    .dataframe tbody tr th {\n",
              "        vertical-align: top;\n",
              "    }\n",
              "\n",
              "    .dataframe thead th {\n",
              "        text-align: right;\n",
              "    }\n",
              "</style>\n",
              "<table border=\"1\" class=\"dataframe\">\n",
              "  <thead>\n",
              "    <tr style=\"text-align: right;\">\n",
              "      <th></th>\n",
              "      <th>date</th>\n",
              "      <th>price_numeric</th>\n",
              "      <th>rolling_7_days</th>\n",
              "    </tr>\n",
              "  </thead>\n",
              "  <tbody>\n",
              "    <tr>\n",
              "      <th>0</th>\n",
              "      <td>2021-02-22</td>\n",
              "      <td>623.604585</td>\n",
              "      <td>623.604585</td>\n",
              "    </tr>\n",
              "    <tr>\n",
              "      <th>1</th>\n",
              "      <td>2021-02-23</td>\n",
              "      <td>770.315595</td>\n",
              "      <td>696.960090</td>\n",
              "    </tr>\n",
              "    <tr>\n",
              "      <th>2</th>\n",
              "      <td>2021-02-24</td>\n",
              "      <td>722.555313</td>\n",
              "      <td>705.491831</td>\n",
              "    </tr>\n",
              "    <tr>\n",
              "      <th>3</th>\n",
              "      <td>2021-02-25</td>\n",
              "      <td>719.061890</td>\n",
              "      <td>708.884346</td>\n",
              "    </tr>\n",
              "    <tr>\n",
              "      <th>4</th>\n",
              "      <td>2021-02-26</td>\n",
              "      <td>808.895632</td>\n",
              "      <td>728.886603</td>\n",
              "    </tr>\n",
              "  </tbody>\n",
              "</table>\n",
              "</div>"
            ],
            "text/plain": [
              "        date  price_numeric  rolling_7_days\n",
              "0 2021-02-22     623.604585      623.604585\n",
              "1 2021-02-23     770.315595      696.960090\n",
              "2 2021-02-24     722.555313      705.491831\n",
              "3 2021-02-25     719.061890      708.884346\n",
              "4 2021-02-26     808.895632      728.886603"
            ]
          },
          "metadata": {
            "tags": []
          },
          "execution_count": 47
        }
      ]
    },
    {
      "cell_type": "code",
      "metadata": {
        "colab": {
          "base_uri": "https://localhost:8080/",
          "height": 621
        },
        "id": "UpVStVGL39tT",
        "outputId": "febe33ad-b382-494f-e5ae-137eb1bfb7ba"
      },
      "source": [
        "from matplotlib import dates\n",
        "fig, ax = plt.subplots(figsize=(15, 10))\n",
        "sns.lineplot(x='date', y='price_numeric', data=calendar_agg, ax=ax, color='gray', linewidth=1);\n",
        "sns.lineplot(x='date', y='rolling_7_days', data=calendar_agg, ax=ax, color='red', linewidth=1, linestyle=\"--\");\n",
        "ax.xaxis.set_major_formatter(dates.DateFormatter(\"%d-%b\"))\n",
        "\n",
        "ax.axvline(x=pd.to_datetime('2022-01-01'), color='blue', linewidth=1, linestyle='-.');\n",
        "ax.axvline(x=pd.to_datetime('2021-12-24'), color='blue', linewidth=1, linestyle='-.');\n",
        "#Referência: https://matplotlib.org/stable/tutorials/text/text_props.html\n",
        "ax.text(pd.to_datetime('2021-12-28'), 570,'New Year', rotation=90, color='blue', size='smaller');\n",
        "ax.text(pd.to_datetime('2021-12-19'), 570, 'Christmas', rotation=90, color='blue', size='smaller');\n",
        "\n",
        "ax.legend([\"Price\", \"Moving Average\"])\n",
        "ax.set_xlabel(\"Date\")\n",
        "ax.set_ylabel(\"Price\")\n",
        "ax.set_title(\"Price Time Series - Rio de Janeiro - 2021/2022\");"
      ],
      "execution_count": 48,
      "outputs": [
        {
          "output_type": "display_data",
          "data": {
            "image/png": "[encoded data removed]",
            "text/plain": [
              "<Figure size 1080x720 with 1 Axes>"
            ]
          },
          "metadata": {
            "tags": [],
            "needs_background": "light"
          }
        }
      ]
    },
    {
      "cell_type": "markdown",
      "metadata": {
        "id": "0aZ-TICJy28-"
      },
      "source": [
        "#### 3.2.2 How is the price behavior if separated by accommodation types?\n",
        "\n",
        "Now let's separate the time series and see how it behaves if we plot separately for each type!"
      ]
    },
    {
      "cell_type": "code",
      "metadata": {
        "colab": {
          "base_uri": "https://localhost:8080/",
          "height": 204
        },
        "id": "Sr9j6ZCx9nK7",
        "outputId": "94ad6ad3-8353-47f3-e562-3538cd4db10b"
      },
      "source": [
        "calendar.head(5)"
      ],
      "execution_count": 49,
      "outputs": [
        {
          "output_type": "execute_result",
          "data": {
            "text/html": [
              "<div>\n",
              "<style scoped>\n",
              "    .dataframe tbody tr th:only-of-type {\n",
              "        vertical-align: middle;\n",
              "    }\n",
              "\n",
              "    .dataframe tbody tr th {\n",
              "        vertical-align: top;\n",
              "    }\n",
              "\n",
              "    .dataframe thead th {\n",
              "        text-align: right;\n",
              "    }\n",
              "</style>\n",
              "<table border=\"1\" class=\"dataframe\">\n",
              "  <thead>\n",
              "    <tr style=\"text-align: right;\">\n",
              "      <th></th>\n",
              "      <th>listing_id</th>\n",
              "      <th>date</th>\n",
              "      <th>available</th>\n",
              "      <th>price</th>\n",
              "      <th>adjusted_price</th>\n",
              "      <th>minimum_nights</th>\n",
              "      <th>maximum_nights</th>\n",
              "      <th>price_numeric</th>\n",
              "    </tr>\n",
              "  </thead>\n",
              "  <tbody>\n",
              "    <tr>\n",
              "      <th>0</th>\n",
              "      <td>45766287</td>\n",
              "      <td>2021-02-23</td>\n",
              "      <td>f</td>\n",
              "      <td>$150.00</td>\n",
              "      <td>$150.00</td>\n",
              "      <td>2.0</td>\n",
              "      <td>1125.0</td>\n",
              "      <td>150.0</td>\n",
              "    </tr>\n",
              "    <tr>\n",
              "      <th>1</th>\n",
              "      <td>45764740</td>\n",
              "      <td>2021-02-24</td>\n",
              "      <td>f</td>\n",
              "      <td>$100.00</td>\n",
              "      <td>$100.00</td>\n",
              "      <td>1.0</td>\n",
              "      <td>4.0</td>\n",
              "      <td>100.0</td>\n",
              "    </tr>\n",
              "    <tr>\n",
              "      <th>2</th>\n",
              "      <td>45764740</td>\n",
              "      <td>2021-02-25</td>\n",
              "      <td>t</td>\n",
              "      <td>$100.00</td>\n",
              "      <td>$100.00</td>\n",
              "      <td>1.0</td>\n",
              "      <td>4.0</td>\n",
              "      <td>100.0</td>\n",
              "    </tr>\n",
              "    <tr>\n",
              "      <th>3</th>\n",
              "      <td>45764740</td>\n",
              "      <td>2021-02-26</td>\n",
              "      <td>t</td>\n",
              "      <td>$100.00</td>\n",
              "      <td>$100.00</td>\n",
              "      <td>1.0</td>\n",
              "      <td>4.0</td>\n",
              "      <td>100.0</td>\n",
              "    </tr>\n",
              "    <tr>\n",
              "      <th>4</th>\n",
              "      <td>45764740</td>\n",
              "      <td>2021-02-27</td>\n",
              "      <td>t</td>\n",
              "      <td>$100.00</td>\n",
              "      <td>$100.00</td>\n",
              "      <td>1.0</td>\n",
              "      <td>4.0</td>\n",
              "      <td>100.0</td>\n",
              "    </tr>\n",
              "  </tbody>\n",
              "</table>\n",
              "</div>"
            ],
            "text/plain": [
              "   listing_id        date  ... maximum_nights price_numeric\n",
              "0    45766287  2021-02-23  ...         1125.0         150.0\n",
              "1    45764740  2021-02-24  ...            4.0         100.0\n",
              "2    45764740  2021-02-25  ...            4.0         100.0\n",
              "3    45764740  2021-02-26  ...            4.0         100.0\n",
              "4    45764740  2021-02-27  ...            4.0         100.0\n",
              "\n",
              "[5 rows x 8 columns]"
            ]
          },
          "metadata": {
            "tags": []
          },
          "execution_count": 49
        }
      ]
    },
    {
      "cell_type": "code",
      "metadata": {
        "colab": {
          "base_uri": "https://localhost:8080/",
          "height": 204
        },
        "id": "PVs3qQV59p4L",
        "outputId": "c72d21be-4bde-4df3-a04d-985d278cca29"
      },
      "source": [
        "# Taking the data from listings\n",
        "listings_room_type = listings[['id', 'room_type']]\n",
        "\n",
        "calendar_join_listing = calendar.merge(listings_room_type, how='left', left_on='listing_id', right_on='id')\n",
        "calendar_room_type_agg = calendar_join_listing\\\n",
        "                          .groupby(['date', 'room_type']).agg({'price_numeric': 'mean'})\\\n",
        "                          .reset_index()\n",
        "\n",
        "calendar_room_type_agg['date'] = pd.to_datetime(calendar_room_type_agg['date'])\n",
        "calendar_room_type_agg.head()"
      ],
      "execution_count": 50,
      "outputs": [
        {
          "output_type": "execute_result",
          "data": {
            "text/html": [
              "<div>\n",
              "<style scoped>\n",
              "    .dataframe tbody tr th:only-of-type {\n",
              "        vertical-align: middle;\n",
              "    }\n",
              "\n",
              "    .dataframe tbody tr th {\n",
              "        vertical-align: top;\n",
              "    }\n",
              "\n",
              "    .dataframe thead th {\n",
              "        text-align: right;\n",
              "    }\n",
              "</style>\n",
              "<table border=\"1\" class=\"dataframe\">\n",
              "  <thead>\n",
              "    <tr style=\"text-align: right;\">\n",
              "      <th></th>\n",
              "      <th>date</th>\n",
              "      <th>room_type</th>\n",
              "      <th>price_numeric</th>\n",
              "    </tr>\n",
              "  </thead>\n",
              "  <tbody>\n",
              "    <tr>\n",
              "      <th>0</th>\n",
              "      <td>2021-02-22</td>\n",
              "      <td>Entire home/apt</td>\n",
              "      <td>729.505455</td>\n",
              "    </tr>\n",
              "    <tr>\n",
              "      <th>1</th>\n",
              "      <td>2021-02-22</td>\n",
              "      <td>Private room</td>\n",
              "      <td>233.388889</td>\n",
              "    </tr>\n",
              "    <tr>\n",
              "      <th>2</th>\n",
              "      <td>2021-02-22</td>\n",
              "      <td>Shared room</td>\n",
              "      <td>110.000000</td>\n",
              "    </tr>\n",
              "    <tr>\n",
              "      <th>3</th>\n",
              "      <td>2021-02-23</td>\n",
              "      <td>Entire home/apt</td>\n",
              "      <td>806.988067</td>\n",
              "    </tr>\n",
              "    <tr>\n",
              "      <th>4</th>\n",
              "      <td>2021-02-23</td>\n",
              "      <td>Hotel room</td>\n",
              "      <td>254.620000</td>\n",
              "    </tr>\n",
              "  </tbody>\n",
              "</table>\n",
              "</div>"
            ],
            "text/plain": [
              "        date        room_type  price_numeric\n",
              "0 2021-02-22  Entire home/apt     729.505455\n",
              "1 2021-02-22     Private room     233.388889\n",
              "2 2021-02-22      Shared room     110.000000\n",
              "3 2021-02-23  Entire home/apt     806.988067\n",
              "4 2021-02-23       Hotel room     254.620000"
            ]
          },
          "metadata": {
            "tags": []
          },
          "execution_count": 50
        }
      ]
    },
    {
      "cell_type": "code",
      "metadata": {
        "colab": {
          "base_uri": "https://localhost:8080/",
          "height": 621
        },
        "id": "Jba84X3k87Mj",
        "outputId": "0fd9ee25-2677-4d66-f6ad-a83ed758072e"
      },
      "source": [
        "from matplotlib import dates\n",
        "fig, ax = plt.subplots(figsize=(15, 10))\n",
        "sns.lineplot(x='date', y='price_numeric', data=calendar_room_type_agg, ax=ax, hue='room_type', linewidth=1);\n",
        "ax.xaxis.set_major_formatter(dates.DateFormatter(\"%d-%b\"))\n",
        "\n",
        "ax.axvline(x=pd.to_datetime('2022-01-01'), color='blue', linewidth=1, linestyle='-.');\n",
        "ax.axvline(x=pd.to_datetime('2021-12-24'), color='blue', linewidth=1, linestyle='-.');\n",
        "#Referência: https://matplotlib.org/stable/tutorials/text/text_props.html\n",
        "ax.text(pd.to_datetime('2021-12-28'), 570,'New Year', rotation=90, color='blue', size='smaller');\n",
        "ax.text(pd.to_datetime('2021-12-19'), 570,'Christmas', rotation=90, color='blue', size='smaller');\n",
        "\n",
        "ax.set_xlabel(\"Data\")\n",
        "ax.set_ylabel(\"Preço\")\n",
        "ax.set_title(\"Time Series Plot - Rio de Janeiro - 2021/2022\");"
      ],
      "execution_count": 51,
      "outputs": [
        {
          "output_type": "display_data",
          "data": {
            "image/png": "[encoded data removed]",
            "text/plain": [
              "<Figure size 1080x720 with 1 Axes>"
            ]
          },
          "metadata": {
            "tags": [],
            "needs_background": "light"
          }
        }
      ]
    },
    {
      "cell_type": "markdown",
      "metadata": {
        "id": "D8rng-hm_WZ6"
      },
      "source": [
        "What a mess! We will try to separate the graphs and plot in 4 subplots!"
      ]
    },
    {
      "cell_type": "code",
      "metadata": {
        "colab": {
          "base_uri": "https://localhost:8080/",
          "height": 204
        },
        "id": "NeTpec2MCMxO",
        "outputId": "fa27012e-a15c-42b4-e9e7-c1a3d9ca4134"
      },
      "source": [
        "calendar_room_type_agg.head()"
      ],
      "execution_count": 52,
      "outputs": [
        {
          "output_type": "execute_result",
          "data": {
            "text/html": [
              "<div>\n",
              "<style scoped>\n",
              "    .dataframe tbody tr th:only-of-type {\n",
              "        vertical-align: middle;\n",
              "    }\n",
              "\n",
              "    .dataframe tbody tr th {\n",
              "        vertical-align: top;\n",
              "    }\n",
              "\n",
              "    .dataframe thead th {\n",
              "        text-align: right;\n",
              "    }\n",
              "</style>\n",
              "<table border=\"1\" class=\"dataframe\">\n",
              "  <thead>\n",
              "    <tr style=\"text-align: right;\">\n",
              "      <th></th>\n",
              "      <th>date</th>\n",
              "      <th>room_type</th>\n",
              "      <th>price_numeric</th>\n",
              "    </tr>\n",
              "  </thead>\n",
              "  <tbody>\n",
              "    <tr>\n",
              "      <th>0</th>\n",
              "      <td>2021-02-22</td>\n",
              "      <td>Entire home/apt</td>\n",
              "      <td>729.505455</td>\n",
              "    </tr>\n",
              "    <tr>\n",
              "      <th>1</th>\n",
              "      <td>2021-02-22</td>\n",
              "      <td>Private room</td>\n",
              "      <td>233.388889</td>\n",
              "    </tr>\n",
              "    <tr>\n",
              "      <th>2</th>\n",
              "      <td>2021-02-22</td>\n",
              "      <td>Shared room</td>\n",
              "      <td>110.000000</td>\n",
              "    </tr>\n",
              "    <tr>\n",
              "      <th>3</th>\n",
              "      <td>2021-02-23</td>\n",
              "      <td>Entire home/apt</td>\n",
              "      <td>806.988067</td>\n",
              "    </tr>\n",
              "    <tr>\n",
              "      <th>4</th>\n",
              "      <td>2021-02-23</td>\n",
              "      <td>Hotel room</td>\n",
              "      <td>254.620000</td>\n",
              "    </tr>\n",
              "  </tbody>\n",
              "</table>\n",
              "</div>"
            ],
            "text/plain": [
              "        date        room_type  price_numeric\n",
              "0 2021-02-22  Entire home/apt     729.505455\n",
              "1 2021-02-22     Private room     233.388889\n",
              "2 2021-02-22      Shared room     110.000000\n",
              "3 2021-02-23  Entire home/apt     806.988067\n",
              "4 2021-02-23       Hotel room     254.620000"
            ]
          },
          "metadata": {
            "tags": []
          },
          "execution_count": 52
        }
      ]
    },
    {
      "cell_type": "code",
      "metadata": {
        "colab": {
          "base_uri": "https://localhost:8080/",
          "height": 985
        },
        "id": "1fJK_b_h_Vzj",
        "outputId": "8c0c2069-60c0-4b2e-a0bf-4246c853cb2b"
      },
      "source": [
        "### PLOTTING SUBPLOTS (https://matplotlib.org/devdocs/gallery/subplots_axes_and_figures/subplots_demo.html)\n",
        "### Ref: (https://stackoverflow.com/questions/20174468/how-to-create-subplots-of-pictures-made-with-the-hist-function-in-matplotlib-p)\n",
        "\n",
        "fig, axs = plt.subplots(2, 2, figsize=(20,15))\n",
        "fig.suptitle('Time Series Price - Accomodation Type - 2021/2022')\n",
        "\n",
        "#Separating Dataset's\n",
        "entire_home = calendar_room_type_agg[calendar_room_type_agg['room_type']=='Entire home/apt']\n",
        "hotel_room = calendar_room_type_agg[calendar_room_type_agg['room_type']=='Hotel room']\n",
        "private_room = calendar_room_type_agg[calendar_room_type_agg['room_type']=='Private room']\n",
        "shared_room = calendar_room_type_agg[calendar_room_type_agg['room_type']=='Shared room']\n",
        "\n",
        "#Labeling Titles\n",
        "axs[0,0].set_title('Time Series - Entire Home/Apt')\n",
        "axs[0,1].set_title('Time Series - Hotel Room')\n",
        "axs[1,0].set_title('Time Series - Private Room')\n",
        "axs[1,1].set_title('Time Series - Shared Room')\n",
        "\n",
        "# #Setting X Axis\n",
        "axs[0,0].set_xlabel('Date')\n",
        "axs[0,1].set_xlabel('Date')\n",
        "axs[1,0].set_xlabel('Date')\n",
        "axs[1,1].set_xlabel('Date')\n",
        "\n",
        "# #Setting Y Axis\n",
        "axs[0,0].set_ylabel('Price')\n",
        "axs[0,1].set_ylabel('Price')\n",
        "axs[1,0].set_ylabel('Price')\n",
        "axs[1,1].set_ylabel('Price')\n",
        "\n",
        "#Plotando as timeseries por tipo\n",
        "sns.lineplot(x='date', y='price_numeric', data=entire_home, ax=axs[0,0], linewidth=1);\n",
        "sns.lineplot(x='date', y='price_numeric', data=hotel_room, ax=axs[0,1], linewidth=1, color='orange');\n",
        "sns.lineplot(x='date', y='price_numeric', data=private_room, ax=axs[1,0], linewidth=1, color='green');\n",
        "sns.lineplot(x='date', y='price_numeric', data=shared_room, ax=axs[1,1], linewidth=1, color='red');\n",
        "\n",
        "# #Plotando os feriados\n",
        "# ## Entire home\n",
        "axs[0,0].axvline(x=pd.to_datetime('2022-01-01'), color='gray', linewidth=1, linestyle='-.');\n",
        "axs[0,0].axvline(x=pd.to_datetime('2021-12-24'), color='gray', linewidth=1, linestyle='-.');\n",
        "axs[0,0].text(pd.to_datetime('2021-12-28'), 700,'New Year', rotation=90, color='gray', size='smaller');\n",
        "axs[0,0].text(pd.to_datetime('2021-12-19'), 700,'Christmas', rotation=90, color='gray', size='smaller');\n",
        "\n",
        "# ## Hotel room\n",
        "axs[0,1].axvline(x=pd.to_datetime('2022-01-01'), color='gray', linewidth=1, linestyle='-.');\n",
        "axs[0,1].axvline(x=pd.to_datetime('2021-12-24'), color='gray', linewidth=1, linestyle='-.');\n",
        "axs[0,1].text(pd.to_datetime('2021-12-28'), 50,'New Year', rotation=90, color='gray', size='smaller');\n",
        "axs[0,1].text(pd.to_datetime('2021-12-19'), 50,'Christmas', rotation=90, color='gray', size='smaller');"
      ],
      "execution_count": 53,
      "outputs": [
        {
          "output_type": "display_data",
          "data": {
            "image/png": "[encoded data removed]",
            "text/plain": [
              "<Figure size 1440x1080 with 4 Axes>"
            ]
          },
          "metadata": {
            "tags": [],
            "needs_background": "light"
          }
        }
      ]
    }
  ]
}